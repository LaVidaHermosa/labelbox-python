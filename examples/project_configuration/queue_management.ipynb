{
  "cells": [
    {
      "cell_type": "markdown",
      "id": "db768cda",
      "metadata": {
        "id": "db768cda"
      },
      "source": [
        "<td>\n",
        "   <a target=\"_blank\" href=\"https://labelbox.com\" ><img src=\"https://labelbox.com/static/images/logo-v4.svg\" width=190/></a>\n",
        "</td>"
      ]
    },
    {
      "cell_type": "markdown",
      "id": "cb5611d0",
      "metadata": {
        "id": "cb5611d0"
      },
      "source": [
        "<td>\n",
        "<a href=\"https://colab.research.google.com/github/Labelbox/labelbox-python/blob/develop/examples/project_configuration/queue_management.ipynb\" target=\"_blank\"><img\n",
        "src=\"https://colab.research.google.com/assets/colab-badge.svg\" alt=\"Open In Colab\"></a>\n",
        "</td>\n",
        "\n",
        "<td>\n",
        "<a href=\"https://github.com/Labelbox/labelbox-python/tree/develop/examples/project_configuration/queue_management.ipynb\" target=\"_blank\"><img\n",
        "src=\"https://img.shields.io/badge/GitHub-100000?logo=github&logoColor=white\" alt=\"GitHub\"></a>\n",
        "</td>"
      ]
    },
    {
      "cell_type": "markdown",
      "id": "official-miniature",
      "metadata": {
        "id": "official-miniature"
      },
      "source": [
        "# Queue Management"
      ]
    },
    {
      "cell_type": "markdown",
      "id": "asian-retrieval",
      "metadata": {
        "id": "asian-retrieval"
      },
      "source": [
        "* The queue is used to task labelers with specific assets\n",
        "* We can do any of the following:\n",
        "    * Set the number of times we want an image labeled\n",
        "        * Referred to as `Consensus` in the front end\n",
        "    * Set the order of items in the queue\n",
        "    * Set the percent of assets to review"
      ]
    },
    {
      "cell_type": "code",
      "execution_count": null,
      "id": "cloudy-leone",
      "metadata": {
        "id": "cloudy-leone"
      },
      "outputs": [],
      "source": [
        "!pip install labelbox\n",
        "!pip install numpy"
      ]
    },
    {
      "cell_type": "code",
      "execution_count": 2,
      "id": "twenty-region",
      "metadata": {
        "id": "twenty-region"
      },
      "outputs": [],
      "source": [
        "from labelbox import Client, LabelingFrontend, OntologyBuilder, MediaType\n",
        "from labelbox.schema.queue_mode import QueueMode\n",
        "import numpy as np\n",
        "from io import BytesIO\n",
        "import os\n",
        "import uuid"
      ]
    },
    {
      "cell_type": "markdown",
      "id": "f4c0a490",
      "metadata": {
        "id": "f4c0a490"
      },
      "source": [
        "# API Key and Client\n",
        "Provide a valid api key below in order to properly connect to the Labelbox Client."
      ]
    },
    {
      "cell_type": "code",
      "execution_count": 3,
      "id": "unauthorized-eagle",
      "metadata": {
        "id": "unauthorized-eagle"
      },
      "outputs": [],
      "source": [
        "# Add your api key\n",
        "API_KEY = None\n",
        "client = Client(api_key=API_KEY)"
      ]
    },
    {
      "cell_type": "markdown",
      "id": "prerequisite-choir",
      "metadata": {
        "id": "prerequisite-choir"
      },
      "source": [
        "### Set up demo project"
      ]
    },
    {
      "cell_type": "code",
      "execution_count": 18,
      "id": "loved-reconstruction",
      "metadata": {
        "id": "loved-reconstruction"
      },
      "outputs": [],
      "source": [
        "## Create two Labelbox  projects\n",
        "# Project defaults to batch mode with benchmark quality settings if queue mode argument is not provided\n",
        "# Note that queue mode will be deprecated once dataset mode is deprecated \n",
        "\n",
        "batch_project = client.create_project(name=\"batch-test-project\",\n",
        "                                description=\"a description\",\n",
        "                                media_type=MediaType.Image,\n",
        "                                # Setup quality settings (Benchmarks)\n",
        "                                auto_audit_number_of_labels=1,\n",
        "                                queue_mode=QueueMode.Batch)\n",
        "\n",
        "dataset_project = client.create_project(name=\"dataset-test-project\",\n",
        "                                description=\"a description\",\n",
        "                                media_type=MediaType.Image,\n",
        "                                ## Setup quality settings (Consensus)\n",
        "                                auto_audit_percentage=0.1,\n",
        "                                auto_audit_number_of_labels=3,\n",
        "                                queue_mode=QueueMode.Dataset)\n",
        "\n",
        "dataset = client.create_dataset(name=\"queue_dataset\")"
      ]
    },
    {
      "cell_type": "markdown",
      "source": [
        "# Add data to your dataset"
      ],
      "metadata": {
        "id": "ztZorrIfzYvR"
      },
      "id": "ztZorrIfzYvR"
    },
    {
      "cell_type": "code",
      "execution_count": 21,
      "id": "antique-tonight",
      "metadata": {
        "id": "antique-tonight",
        "colab": {
          "base_uri": "https://localhost:8080/"
        },
        "outputId": "4c99f26d-7755-41f7-d86e-c86f6b019635"
      },
      "outputs": [
        {
          "output_type": "stream",
          "name": "stdout",
          "text": [
            "ERRORS dataset2:  None\n",
            "RESULT URL2:  https://storage.labelbox.com/cl3ahv73w1891087qbwzs3edd%2Fdata-row-imports-results%2Fcl9rhym4l3p4x07xy1gsz301t_cl9ria9z33t2q0702ftd39bdj.json?Expires=1666988187661&KeyName=labelbox-assets-key-3&Signature=e_DUH8TN5UuoCgtoNULdttXXM_k\n"
          ]
        }
      ],
      "source": [
        "## Example image\n",
        "uploads = []\n",
        "\n",
        "# Generate data rows\n",
        "for i in range(1, 9):\n",
        "  row = {\n",
        "      \"row_data\":  f\"https://storage.googleapis.com/labelbox-datasets/People_Clothing_Segmentation/jpeg_images/IMAGES/img_000{i}.jpeg\",\n",
        "      \"global_key\": f\"ID-{uuid.uuid1()}\"\n",
        "    }\n",
        "  uploads.append(row)\n",
        "\n",
        "\n",
        "data_rows = dataset.create_data_rows(uploads)\n",
        "\n",
        "data_rows.wait_till_done()\n",
        "print(\"ERRORS dataset: \" , data_rows.errors)\n",
        "\n",
        "print(\"RESULT URL: \", data_rows.result_url)"
      ]
    },
    {
      "cell_type": "markdown",
      "source": [
        "# Attach data to your project and set data row priority"
      ],
      "metadata": {
        "id": "jXTxyvTFr_gR"
      },
      "id": "jXTxyvTFr_gR"
    },
    {
      "cell_type": "code",
      "source": [
        "####### Connect your dataset \n",
        "# Dataset projects do not support batches\n",
        "# LPO Will be deprecated for datasets, please use batches to use data row priority\n",
        "dataset_project.datasets.connect(dataset)\n",
        "\n",
        "######## Create batches \n",
        "\n",
        "# Batch projects do not support datasets\n",
        "\n",
        "# Get all the data row ids from your dataset to create the batch\n",
        "batch_datarows = [dr.uid for dr in list(dataset.export_data_rows())]\n",
        "\n",
        "\n",
        "# Create the batch \n",
        "\n",
        "batch = batch_project.create_batch(\n",
        "  \"batch-demo\", # Each batch in a project must have a unique name\n",
        "  batch_datarows[0:2], # A list of data rows or data row ids\n",
        "  5 # priority between 1(Highest) - 5(lowest) 5 is the max priority that can be set\n",
        ")\n",
        "\n",
        "batch2 = batch_project.create_batch(\n",
        "  \"batch-demo-2\", # Each batch in a project must have a unique name\n",
        "  #Provide a slice of the data since you can't import assets with global keys that already exist in the project.\n",
        "  batch_datarows[2:4],\n",
        "  1 # priority between 1(Highest) - 5(lowest) 5 is the max priority that can be set\n",
        ")\n",
        "\n",
        "batch3 = batch_project.create_batch(\n",
        "  \"batch-demo-3\", # Each batch in a project must have a unique name\n",
        "  # Provide a slice of the data since you can't import assets with global keys that already exist in the project.\n",
        "  batch_datarows[4: len(batch_datarows)],\n",
        "  2 # priority between 1(Highest) - 5(lowest) 5 is the max priority that can be set\n",
        ")\n",
        "\n",
        "print(\"Batch: \", batch)\n",
        "print(\"Batch2: \", batch2)\n",
        "print(\"Batch3: \", batch3)"
      ],
      "metadata": {
        "colab": {
          "base_uri": "https://localhost:8080/"
        },
        "id": "kzBZ9ngLrDgB",
        "outputId": "45cb86f9-547b-440a-9c4d-b2514a936603"
      },
      "id": "kzBZ9ngLrDgB",
      "execution_count": 23,
      "outputs": [
        {
          "output_type": "stream",
          "name": "stdout",
          "text": [
            "Batch:  <Batch {'created_at': datetime.datetime(2022, 10, 27, 20, 31, 48, tzinfo=datetime.timezone.utc), 'name': 'batch-demo', 'size': 2, 'uid': '61ebcee0-5636-11ed-b875-39298baad172', 'updated_at': datetime.datetime(2022, 10, 27, 20, 31, 48, tzinfo=datetime.timezone.utc)}>\n",
            "Batch2:  <Batch {'created_at': datetime.datetime(2022, 10, 27, 20, 31, 50, tzinfo=datetime.timezone.utc), 'name': 'batch-demo-2', 'size': 2, 'uid': '62de6c40-5636-11ed-8b12-7f90533b6a47', 'updated_at': datetime.datetime(2022, 10, 27, 20, 31, 50, tzinfo=datetime.timezone.utc)}>\n",
            "Batch3:  <Batch {'created_at': datetime.datetime(2022, 10, 27, 20, 31, 52, tzinfo=datetime.timezone.utc), 'name': 'batch-demo-3', 'size': 4, 'uid': '64089460-5636-11ed-bcbd-1b9bfc00b2b5', 'updated_at': datetime.datetime(2022, 10, 27, 20, 31, 52, tzinfo=datetime.timezone.utc)}>\n"
          ]
        }
      ]
    },
    {
      "cell_type": "markdown",
      "id": "available-bonus",
      "metadata": {
        "id": "available-bonus"
      },
      "source": [
        "* <b>Go to your project and you should see the numbers appear in order.</b>"
      ]
    },
    {
      "cell_type": "code",
      "execution_count": 24,
      "id": "insured-enterprise",
      "metadata": {
        "id": "insured-enterprise",
        "outputId": "0c3c29e0-5206-49e3-fa69-4e4d8d9ac696",
        "colab": {
          "base_uri": "https://localhost:8080/"
        }
      },
      "outputs": [
        {
          "output_type": "stream",
          "name": "stdout",
          "text": [
            "View the results here: https://app.labelbox.com/projects/cl9rhx7a6339l07vd7rc366n6\n",
            "View the results here: https://app.labelbox.com/projects/cl9rhx7xx3pso07xra8caeck2\n"
          ]
        }
      ],
      "source": [
        "print(\"View the results here:\",\n",
        "      f\"https://app.labelbox.com/projects/{batch_project.uid}\")\n",
        "print(\"View the results here:\",\n",
        "      f\"https://app.labelbox.com/projects/{dataset_project.uid}\")\n",
        "# Click `start labeling` to see the images in order"
      ]
    },
    {
      "cell_type": "markdown",
      "source": [
        "## Remove Queue Order\n",
        "- Remove all the batch priority in your project"
      ],
      "metadata": {
        "id": "ZeFhTBHeLNnn"
      },
      "id": "ZeFhTBHeLNnn"
    },
    {
      "cell_type": "code",
      "source": [
        "batch_project.unset_labeling_parameter_overrides(dataset.export_data_rows())"
      ],
      "metadata": {
        "colab": {
          "base_uri": "https://localhost:8080/"
        },
        "id": "Z31eZfjSLKYj",
        "outputId": "3dc1942d-43c4-4bba-9d58-0d75cc0cf34b"
      },
      "id": "Z31eZfjSLKYj",
      "execution_count": 27,
      "outputs": [
        {
          "output_type": "execute_result",
          "data": {
            "text/plain": [
              "True"
            ]
          },
          "metadata": {},
          "execution_count": 27
        }
      ]
    },
    {
      "cell_type": "markdown",
      "source": [
        "# Cleanup"
      ],
      "metadata": {
        "id": "JeDfJJFb6XEx"
      },
      "id": "JeDfJJFb6XEx"
    },
    {
      "cell_type": "code",
      "source": [
        "# batch_project.delete()\n",
        "# dataset_project.delete()\n",
        "# dataset.delete()"
      ],
      "metadata": {
        "id": "bAQ5ymKC6WLO"
      },
      "id": "bAQ5ymKC6WLO",
      "execution_count": null,
      "outputs": []
    }
  ],
  "metadata": {
    "kernelspec": {
      "display_name": "Python 3",
      "language": "python",
      "name": "python3"
    },
    "language_info": {
      "codemirror_mode": {
        "name": "ipython",
        "version": 3
      },
      "file_extension": ".py",
      "mimetype": "text/x-python",
      "name": "python",
      "nbconvert_exporter": "python",
      "pygments_lexer": "ipython3",
      "version": "3.8.2"
    },
    "colab": {
      "provenance": [],
      "collapsed_sections": []
    }
  },
  "nbformat": 4,
  "nbformat_minor": 5
}
