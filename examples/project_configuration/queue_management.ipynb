{
  "nbformat": 4,
  "nbformat_minor": 5,
  "metadata": {},
  "cells": [
    {
      "metadata": {},
      "source": [
        "<td>\n",
        "   <a target=\"_blank\" href=\"https://labelbox.com\" ><img src=\"https://labelbox.com/static/images/logo-v4.svg\" width=190/></a>\n",
        "</td>"
      ],
      "cell_type": "markdown"
    },
    {
      "metadata": {},
      "source": [
        "<td>\n",
        "<a href=\"https://colab.research.google.com/github/Labelbox/labelbox-python/blob/master/examples/project_configuration/queue_management.ipynb\" target=\"_blank\"><img\n",
        "src=\"https://colab.research.google.com/assets/colab-badge.svg\" alt=\"Open In Colab\"></a>\n",
        "</td>\n",
        "\n",
        "<td>\n",
        "<a href=\"https://github.com/Labelbox/labelbox-python/tree/master/examples/project_configuration/queue_management.ipynb\" target=\"_blank\"><img\n",
        "src=\"https://img.shields.io/badge/GitHub-100000?logo=github&logoColor=white\" alt=\"GitHub\"></a>\n",
        "</td>"
      ],
      "cell_type": "markdown"
    },
    {
      "metadata": {},
      "source": [
        "# Queue Management"
      ],
      "cell_type": "markdown"
    },
    {
      "metadata": {},
      "source": [
        "* The queue is used to task labelers with specific assets\n",
        "* We can do any of the following:\n",
        "    * Set quality settings\n",
        "    * Set the order of items in the queue\n",
        "    * Set the percent of assets to review"
      ],
      "cell_type": "markdown"
    },
    {
      "metadata": {},
      "source": [
        "!pip install labelbox -q\n",
        "!pip install numpy"
      ],
      "cell_type": "code",
      "outputs": [
        {
          "name": "stdout",
          "output_type": "stream",
          "text": [
            "Requirement already satisfied: numpy in /opt/homebrew/lib/python3.10/site-packages (1.23.4)\n"
          ]
        }
      ],
      "execution_count": null
    },
    {
      "metadata": {},
      "source": [
        "import labelbox as lb\n",
        "import numpy as np\n",
        "from io import BytesIO\n",
        "import os\n",
        "import uuid"
      ],
      "cell_type": "code",
      "outputs": [],
      "execution_count": null
    },
    {
      "metadata": {},
      "source": [
        "# API Key and Client\n",
        "Provide a valid api key below in order to properly connect to the Labelbox Client."
      ],
      "cell_type": "markdown"
    },
    {
      "metadata": {},
      "source": [
        "# Add your api key\n",
        "API_KEY = \"\"\n",
        "client = lb.Client(api_key=API_KEY)"
      ],
      "cell_type": "code",
      "outputs": [],
      "execution_count": null
    },
    {
      "metadata": {},
      "source": [
        "### Set up demo project"
      ],
      "cell_type": "markdown"
    },
    {
      "metadata": {},
      "source": [
        "## Create two Labelbox  projects\n",
        "# Project defaults to batch mode with benchmark quality settings if queue mode argument is not provided\n",
        "# Note that queue mode will be deprecated once dataset mode is deprecated \n",
        "\n",
        "project = client.create_project(name=\"batch-test-project\",\n",
        "                                description=\"a description\",\n",
        "                                media_type=lb.MediaType.Image,\n",
        "                                # Setup quality settings (Benchmarks)\n",
        "                                auto_audit_number_of_labels=1,\n",
        "                                queue_mode=lb.QueueMode.Batch)\n",
        "\n",
        "# For Consensus quality settings use : \n",
        "consensus_quality = {\n",
        "  \"auto_audit_percentage\": 0.1,\n",
        "  \"auto_audit_number_of_labels\": 3\n",
        "}\n",
        "\n",
        "\n",
        "dataset = client.create_dataset(name=\"queue_dataset\")"
      ],
      "cell_type": "code",
      "outputs": [],
      "execution_count": null
    },
    {
      "metadata": {},
      "source": [
        "# Add data to your dataset"
      ],
      "cell_type": "markdown"
    },
    {
      "metadata": {},
      "source": [
        "## Example image\n",
        "uploads = []\n",
        "global_keys = [\"ID-1\", \"ID-2\", \"ID-3\", \"ID-4\"]\n",
        "# Generate data rows\n",
        "for i in range(1, 5):\n",
        "  row = {\n",
        "      \"row_data\":  f\"https://storage.googleapis.com/labelbox-datasets/People_Clothing_Segmentation/jpeg_images/IMAGES/img_000{i}.jpeg\",\n",
        "      \"global_key\": global_keys[i-1]\n",
        "    }\n",
        "  uploads.append(row)\n",
        "\n",
        "\n",
        "data_rows = dataset.create_data_rows(uploads)\n",
        "data_rows.wait_till_done()\n",
        "print(\"Errors\" , data_rows.errors)\n",
        "print(\"Dataset status: \", data_rows.status)"
      ],
      "cell_type": "code",
      "outputs": [
        {
          "name": "stderr",
          "output_type": "stream",
          "text": [
            "There are errors present. Please look at `task.errors` for more details\n"
          ]
        },
        {
          "name": "stdout",
          "output_type": "stream",
          "text": [
            "Errors Duplicate global keys found: ID-1,ID-3,ID-2,ID-4\n",
            "Dataset status:  FAILED\n"
          ]
        }
      ],
      "execution_count": null
    },
    {
      "metadata": {},
      "source": [
        "# Attach data to your project and set data row priority"
      ],
      "cell_type": "markdown"
    },
    {
      "metadata": {},
      "source": [
        "######## Create batches \n",
        "\n",
        "# Create the batch \n",
        "\n",
        "batch = project.create_batch(\n",
        "  \"batch-demo\", # Each batch in a project must have a unique name\n",
        "  global_keys = global_keys[0:2], # A list of data rows, data row ids or global keys\n",
        "  priority=5 # priority between 1(Highest) - 5(lowest) 5 is the max priority that can be set\n",
        ")\n",
        "\n",
        "batch2 = project.create_batch(\n",
        "  \"batch-demo-2\", # Each batch in a project must have a unique name\n",
        "  #Provide a slice of the data since you can't import assets with global keys that already exist in the project.\n",
        "  global_keys=global_keys[2:4], # A list of data rows, data row ids or global keys\n",
        "  priority=1 # priority between 1(Highest) - 5(lowest) 5 is the max priority that can be set\n",
        ")\n",
        "\n",
        "\n",
        "print(\"Batch: \", batch)\n",
        "print(\"Batch2: \", batch2)"
      ],
      "cell_type": "code",
      "outputs": [
        {
          "name": "stdout",
          "output_type": "stream",
          "text": [
            "Batch:  <Batch {\n",
            "    \"consensus_settings_json\": \"{\\\"numberOfLabels\\\":1,\\\"coveragePercentage\\\":0}\",\n",
            "    \"created_at\": \"2023-03-27 17:56:48+00:00\",\n",
            "    \"name\": \"batch-demo\",\n",
            "    \"size\": 0,\n",
            "    \"uid\": \"bf033f60-ccc8-11ed-b6c4-79ab55561bdc\",\n",
            "    \"updated_at\": \"2023-03-27 17:56:48+00:00\"\n",
            "}>\n",
            "Batch2:  <Batch {\n",
            "    \"consensus_settings_json\": \"{\\\"numberOfLabels\\\":1,\\\"coveragePercentage\\\":0}\",\n",
            "    \"created_at\": \"2023-03-27 17:56:50+00:00\",\n",
            "    \"name\": \"batch-demo-2\",\n",
            "    \"size\": 0,\n",
            "    \"uid\": \"bfdd4bb0-ccc8-11ed-bc5e-fd8fea6223dc\",\n",
            "    \"updated_at\": \"2023-03-27 17:56:50+00:00\"\n",
            "}>\n"
          ]
        }
      ],
      "execution_count": null
    },
    {
      "metadata": {},
      "source": [
        "print(\"View the results here:\",\n",
        "      f\"https://app.labelbox.com/projects/{project.uid}\")\n",
        "# Click `start labeling` to see the images in order"
      ],
      "cell_type": "code",
      "outputs": [
        {
          "name": "stdout",
          "output_type": "stream",
          "text": [
            "View the results here: https://app.labelbox.com/projects/clfr4s4o50q4507z348um6sgd\n"
          ]
        }
      ],
      "execution_count": null
    },
    {
      "metadata": {},
      "source": [
        "## Queue Order\n",
        "- Add priority for each data row\n",
        "- Remove all the batch priority in your project"
      ],
      "cell_type": "markdown"
    },
    {
      "metadata": {},
      "source": [
        "## See current LPOs\n",
        "print(project.labeling_parameter_overrides().get_many(4))\n",
        "\n",
        "\n",
        "## Select data rows from batches \n",
        "data_rows = []\n",
        "for b in list(project.batches()):\n",
        "  for dr in b.export_data_rows(): \n",
        "    data_rows.append(dr)\n",
        "  \n",
        "## Add LPOs\n",
        "lpos1 = []\n",
        "p=1;\n",
        "for dr in data_rows: \n",
        "  lpos1.append((dr, p, 1))\n",
        "  p+=1\n",
        "\n",
        "\n",
        "project.set_labeling_parameter_overrides(lpos1)\n",
        "# Get the project's LPOs"
      ],
      "cell_type": "code",
      "outputs": [
        {
          "name": "stdout",
          "output_type": "stream",
          "text": [
            "[<LabelingParameterOverride ID: clfr4sdm80ns50710c4w9hhfu>, <LabelingParameterOverride ID: clfr4sdm80ns10710eiry8ad6>, <LabelingParameterOverride ID: clfr4scim16kl07xl7w9i948j>, <LabelingParameterOverride ID: clfr4scim16kh07xlddd4au94>]\n"
          ]
        },
        {
          "name": "stderr",
          "output_type": "stream",
          "text": [
            "LabelingParameterOverrides are deprecated for new projects, and will eventually be removed completely. Prefer to use batch based queuing with priority & consensus number of labels instead.\n"
          ]
        },
        {
          "data": {
            "text/plain": [
              "True"
            ]
          },
          "execution_count": 59,
          "metadata": {},
          "output_type": "execute_result"
        }
      ],
      "execution_count": null
    },
    {
      "metadata": {},
      "source": [
        "## Verify LPOs\n",
        "project_lpos = list(project.labeling_parameter_overrides())\n",
        "## Remove LPOs\n",
        "# project.unset_labeling_parameter_overrides(dataset.export_data_rows())\n",
        "\n",
        "for lpo in project_lpos:\n",
        "  print(lpo)\n",
        "  print(\"Data row:\", lpo.data_row().uid)"
      ],
      "cell_type": "code",
      "outputs": [
        {
          "name": "stdout",
          "output_type": "stream",
          "text": [
            "<LabelingParameterOverride {\n",
            "    \"number_of_labels\": 1,\n",
            "    \"priority\": 3,\n",
            "    \"uid\": \"clfr4t7fi079r07wga10a5k59\"\n",
            "}>\n",
            "Data row: clfr0js3100zi079g1c9oduey\n",
            "<LabelingParameterOverride {\n",
            "    \"number_of_labels\": 1,\n",
            "    \"priority\": 4,\n",
            "    \"uid\": \"clfr4t7fi079n07wg3wu8d7oi\"\n",
            "}>\n",
            "Data row: clfr0js3100za079gdccjgo9a\n",
            "<LabelingParameterOverride {\n",
            "    \"number_of_labels\": 1,\n",
            "    \"priority\": 1,\n",
            "    \"uid\": \"clfr4t7fi079j07wghkdadcen\"\n",
            "}>\n",
            "Data row: clfr0js3000z6079g1bnd8nvq\n",
            "<LabelingParameterOverride {\n",
            "    \"number_of_labels\": 1,\n",
            "    \"priority\": 2,\n",
            "    \"uid\": \"clfr4t7fh079f07wg6kwr2efh\"\n",
            "}>\n",
            "Data row: clfr0js3000z2079g3qbr9fx3\n"
          ]
        }
      ],
      "execution_count": null
    },
    {
      "metadata": {},
      "source": [
        "# Cleanup"
      ],
      "cell_type": "markdown"
    },
    {
      "metadata": {},
      "source": [
        "# project.delete()\n",
        "# dataset.delete()"
      ],
      "cell_type": "code",
      "outputs": [],
      "execution_count": null
    }
  ]
}