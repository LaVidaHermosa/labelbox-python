{
  "nbformat": 4,
  "nbformat_minor": 5,
  "metadata": {},
  "cells": [
    {
      "metadata": {},
      "source": [
        "<td>\n",
        "   <a target=\"_blank\" href=\"https://labelbox.com\" ><img src=\"https://labelbox.com/blog/content/images/2021/02/logo-v4.svg\" width=190/></a>\n",
        "</td>"
      ],
      "cell_type": "markdown"
    },
    {
      "metadata": {},
      "source": [
        "<td>\n",
        "<a href=\"https://colab.research.google.com/github/Labelbox/labelbox-python/blob/master/examples/project_configuration/project_setup.ipynb\" target=\"_blank\"><img\n",
        "src=\"https://colab.research.google.com/assets/colab-badge.svg\" alt=\"Open In Colab\"></a>\n",
        "</td>\n",
        "\n",
        "<td>\n",
        "<a href=\"https://github.com/Labelbox/labelbox-python/tree/master/examples/project_configuration/project_setup.ipynb\" target=\"_blank\"><img\n",
        "src=\"https://img.shields.io/badge/GitHub-100000?logo=github&logoColor=white\" alt=\"GitHub\"></a>\n",
        "</td>"
      ],
      "cell_type": "markdown"
    },
    {
      "metadata": {},
      "source": [
        "# Project Setup\n",
        "* This notebok describes how to create and configure a project\n",
        "* This is the same as creating a new project in the editor and going through all of the steps."
      ],
      "cell_type": "markdown"
    },
    {
      "metadata": {},
      "source": [
        "* When a user creates a project with client.create_project() the project is not ready for labeling.\n",
        "    * An ontology must be set\n",
        "    * A Batch must be created"
      ],
      "cell_type": "markdown"
    },
    {
      "metadata": {},
      "source": [
        "!pip install \"labelbox[data]\" -q"
      ],
      "cell_type": "code",
      "outputs": [
        {
          "name": "stdout",
          "output_type": "stream",
          "text": [
            "\n",
            "\u001b[1m[\u001b[0m\u001b[34;49mnotice\u001b[0m\u001b[1;39;49m]\u001b[0m\u001b[39;49m A new release of pip is available: \u001b[0m\u001b[31;49m23.0.1\u001b[0m\u001b[39;49m -> \u001b[0m\u001b[32;49m23.2.1\u001b[0m\n",
            "\u001b[1m[\u001b[0m\u001b[34;49mnotice\u001b[0m\u001b[1;39;49m]\u001b[0m\u001b[39;49m To update, run: \u001b[0m\u001b[32;49mpython3.10 -m pip install --upgrade pip\u001b[0m\n"
          ]
        }
      ],
      "execution_count": null
    },
    {
      "metadata": {},
      "source": [
        "import labelbox as lb\n",
        "import uuid"
      ],
      "cell_type": "code",
      "outputs": [],
      "execution_count": null
    },
    {
      "metadata": {},
      "source": [
        "# API Key and Client\n",
        "Provide a valid api key below in order to properly connect to the Labelbox Client."
      ],
      "cell_type": "markdown"
    },
    {
      "metadata": {},
      "source": [
        "# Add your api key\n",
        "API_KEY=\"\"\n",
        "client = lb.Client(api_key=API_KEY)"
      ],
      "cell_type": "code",
      "outputs": [],
      "execution_count": null
    },
    {
      "metadata": {},
      "source": [
        "### Create Dataset\n",
        "* Create dataset and attach data\n",
        "* More details on attaching data can be found [here](https://github.com/Labelbox/labelbox-python/blob/master/examples/basics/data_rows.ipynb)"
      ],
      "cell_type": "markdown"
    },
    {
      "metadata": {},
      "source": [
        "dataset = client.create_dataset(name=\"project_setup_demo\")\n",
        "global_keys = [\"id1\", \"id2\", \"id3\", \"id4\"]\n",
        "## Example image\n",
        "uploads = []\n",
        "# Generate data rows\n",
        "for i in range(1,5):\n",
        "    uploads.append({\n",
        "        'row_data':  f\"https://storage.googleapis.com/labelbox-datasets/People_Clothing_Segmentation/jpeg_images/IMAGES/img_000{i}.jpeg\",\n",
        "        \"global_key\": global_keys[i-1]\n",
        "    })\n",
        "task = dataset.create_data_rows(uploads)\n",
        "task.wait_till_done()\n",
        "print(\"ERRORS: \" , task.errors)\n",
        "print(\"RESULT URL: \", task.result_url)"
      ],
      "cell_type": "code",
      "outputs": [
        {
          "name": "stdout",
          "output_type": "stream",
          "text": [
            "ERRORS:  None\n",
            "RESULT URL:  https://storage.googleapis.com/lb-labelbox-193903-adv/metadata/orgs/cl3ahv73w1891087qbwzs3edd/tasks/c88xpab2t0729066ylm6fvs5t/datarow-import-result.json?GoogleAccessId=sa-lb-api-0da28c-7505d6%40labelbox-193903.iam.gserviceaccount.com&Expires=1695135734&Signature=WAOWrKsTEemO88dz%2BGvttmZ9WHiBRFSatcqyA9OCMml8xFnK2DEnaDDlO5HFAZdRQrRK18FYvUpRjP%2BSneNolOvxRE57iuAeR04WKRt%2FCxSGRG%2B4x9Jc0KhubXw7i%2BS2GaeK9%2FLK5Tf3rmpUSib00hTdEsOCMw87gus9iBKP1g7m4Iw7jZVGfJm9tLLtOEjhgENCYvF44ITQ%2BB1qBgKz4vLsL7Gi5%2BP%2BiW%2BXaQABB2MZ2Np7z9wVFXqRJx82b3TrJVXTHDEtY9WiBi%2Fp8LxXAc7QOQruUaFOpEoD97PpigwoQpJL6ZaVry%2FLcZtP%2BEEjB5ETVXKfVr%2FGLaUNPXG6fA%3D%3D&response-content-disposition=attachment\n"
          ]
        }
      ],
      "execution_count": null
    },
    {
      "metadata": {},
      "source": [
        "### Create Or Select an Ontology\n",
        "* Optionally create an ontology or select from an existing one.\n",
        "* More details on ontology management can be found [here](https://github.com/Labelbox/labelbox-python/blob/master/examples/basics/ontologies.ipynb)\n",
        "   "
      ],
      "cell_type": "markdown"
    },
    {
      "metadata": {},
      "source": [
        "# Create\n",
        "ontology_builder = lb.OntologyBuilder(\n",
        "    tools=[lb.Tool(name=\"cat\", tool=lb.Tool.Type.BBOX)])\n",
        "ontology = client.create_ontology(\"project-setup-demo-ontology\",\n",
        "                                  ontology_builder.asdict())\n",
        "# Select existing ontology\n",
        "#ontology = client.get_ontology(\"<ontology_id>\")\n",
        "#ontology = existing_project.ontology()"
      ],
      "cell_type": "code",
      "outputs": [],
      "execution_count": null
    },
    {
      "metadata": {},
      "source": [
        "### Create Project and Setup the Editor\n",
        "* Setting up a project will add an ontology and will enable labeling to begin\n",
        "* Creating batches will add all data_rows belonging to the dataset to the queue."
      ],
      "cell_type": "markdown"
    },
    {
      "metadata": {},
      "source": [
        "\n",
        "batch_project = client.create_project(name=\"Project Setup Demo\",\n",
        "                                quality_mode=lb.QualityMode.Consensus,\n",
        "                                media_type=lb.MediaType.Image)\n",
        "\n",
        "\n",
        "batch_project.setup_editor(ontology)\n"
      ],
      "cell_type": "code",
      "outputs": [
        {
          "ename": "AttributeError",
          "evalue": "module 'labelbox' has no attribute 'QualityMode'",
          "output_type": "error",
          "traceback": [
            "\u001b[0;31m---------------------------------------------------------------------------\u001b[0m",
            "\u001b[0;31mAttributeError\u001b[0m                            Traceback (most recent call last)",
            "Cell \u001b[0;32mIn[11], line 2\u001b[0m\n\u001b[1;32m      1\u001b[0m batch_project \u001b[39m=\u001b[39m client\u001b[39m.\u001b[39mcreate_project(name\u001b[39m=\u001b[39m\u001b[39m\"\u001b[39m\u001b[39mProject Setup Demo\u001b[39m\u001b[39m\"\u001b[39m,\n\u001b[0;32m----> 2\u001b[0m                                 quality_mode\u001b[39m=\u001b[39mlb\u001b[39m.\u001b[39;49mQualityMode\u001b[39m.\u001b[39mConsensus,\n\u001b[1;32m      3\u001b[0m                                 media_type\u001b[39m=\u001b[39mlb\u001b[39m.\u001b[39mMediaType\u001b[39m.\u001b[39mImage)\n\u001b[1;32m      6\u001b[0m batch_project\u001b[39m.\u001b[39msetup_editor(ontology)\n",
            "\u001b[0;31mAttributeError\u001b[0m: module 'labelbox' has no attribute 'QualityMode'"
          ]
        }
      ],
      "execution_count": null
    },
    {
      "metadata": {},
      "source": [
        "# Add data to your projects "
      ],
      "cell_type": "markdown"
    },
    {
      "metadata": {},
      "source": [
        "\n",
        "## When creating a batch you can also setup the data rows priority\n",
        "batch = batch_project.create_batch(\n",
        "  \"batch-demo-4-2\", # Each batch in a project must have a unique name\n",
        "  global_keys=global_keys, # A list of data rows or data row ids\n",
        "  priority=5, # priority between 1(Highest) - 5(lowest)\n",
        "  consensus_settings={\n",
        "    \"numberOfLabels\": 2, \n",
        "    \"coveragePercentage\": 0.1 \n",
        "  } \n",
        ")\n",
        "print(\"Batch: \", batch)"
      ],
      "cell_type": "code",
      "outputs": [
        {
          "name": "stdout",
          "output_type": "stream",
          "text": [
            "Batch:  <Batch {\n",
            "    \"consensus_settings_json\": \"{\\\"numberOfLabels\\\":1,\\\"coveragePercentage\\\":0}\",\n",
            "    \"created_at\": \"2023-09-05 14:59:51+00:00\",\n",
            "    \"name\": \"batch-demo-4-2\",\n",
            "    \"size\": 4,\n",
            "    \"uid\": \"ddb40b70-4bfc-11ee-8b96-936d5f85b4f1\",\n",
            "    \"updated_at\": \"2023-09-05 14:59:51+00:00\"\n",
            "}>\n"
          ]
        }
      ],
      "execution_count": null
    },
    {
      "metadata": {},
      "source": [
        "batch_project.batches().get_one().consensus_settings_json\n",
        "\n"
      ],
      "cell_type": "code",
      "outputs": [
        {
          "data": {
            "text/plain": [
              "'{\"numberOfLabels\":1,\"coveragePercentage\":0}'"
            ]
          },
          "execution_count": 16,
          "metadata": {},
          "output_type": "execute_result"
        }
      ],
      "execution_count": null
    },
    {
      "metadata": {},
      "source": [
        "### Review"
      ],
      "cell_type": "markdown"
    },
    {
      "metadata": {},
      "source": [
        "# Note setup_complete will be None if it fails.\n",
        "print(batch_project.setup_complete)\n",
        "print(batch_project.ontology())\n",
        "print([ds.name for ds in batch_project.batches()])\n",
        "print(batch_project.)\n"
      ],
      "cell_type": "code",
      "outputs": [
        {
          "name": "stdout",
          "output_type": "stream",
          "text": [
            "2023-09-05 14:55:22+00:00\n",
            "<Ontology {\n",
            "    \"classification_schema_count\": 0,\n",
            "    \"created_at\": \"2023-09-05 14:55:17.551000+00:00\",\n",
            "    \"description\": null,\n",
            "    \"name\": \"project-setup-demo-ontology\",\n",
            "    \"normalized\": {\n",
            "        \"id\": \"clm6fmwpr0up907xu0lmc5cle\",\n",
            "        \"name\": \"project-setup-demo-ontology\",\n",
            "        \"tools\": [\n",
            "            {\n",
            "                \"schemaNodeId\": \"clm6fmwqg0upb07xu0m5g9wxl\",\n",
            "                \"featureSchemaId\": \"clm6fmwqg0upa07xu2xwn3gus\",\n",
            "                \"required\": false,\n",
            "                \"name\": \"cat\",\n",
            "                \"tool\": \"rectangle\",\n",
            "                \"color\": \"#ff0000\",\n",
            "                \"archived\": 0,\n",
            "                \"classifications\": [],\n",
            "                \"kind\": \"Rectangle\"\n",
            "            }\n",
            "        ],\n",
            "        \"classifications\": [],\n",
            "        \"relationships\": []\n",
            "    },\n",
            "    \"object_schema_count\": 1,\n",
            "    \"uid\": \"clm6fmwpr0up907xu0lmc5cle\",\n",
            "    \"updated_at\": \"2023-09-05 14:55:17.551000+00:00\"\n",
            "}>\n",
            "['batch-demo-4']\n"
          ]
        }
      ],
      "execution_count": null
    },
    {
      "metadata": {},
      "source": [
        "print(f\"https://app.labelbox.com/projects/{batch_project.uid}\")"
      ],
      "cell_type": "code",
      "outputs": [
        {
          "name": "stdout",
          "output_type": "stream",
          "text": [
            "https://app.labelbox.com/projects/clm6fmzr20cfb07yf095f4sf5\n"
          ]
        }
      ],
      "execution_count": null
    },
    {
      "metadata": {},
      "source": [
        "# Cleanup"
      ],
      "cell_type": "markdown"
    },
    {
      "metadata": {},
      "source": [
        "# batch_project.delete()\n",
        "# dataset_project.delete()\n",
        "# dataset.delete()"
      ],
      "cell_type": "code",
      "outputs": [],
      "execution_count": null
    }
  ]
}