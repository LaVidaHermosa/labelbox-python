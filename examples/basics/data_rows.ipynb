{
  "cells": [
    {
      "cell_type": "markdown",
      "id": "SEAj6-X1YB5R",
      "metadata": {
        "id": "SEAj6-X1YB5R"
      },
      "source": [
        "<td>\n",
        "   <a target=\"_blank\" href=\"https://labelbox.com\" ><img src=\"https://labelbox.com/blog/content/images/2021/02/logo-v4.svg\" width=256/></a>\n",
        "</td>"
      ]
    },
    {
      "cell_type": "markdown",
      "id": "k-eICeetYB5S",
      "metadata": {
        "id": "k-eICeetYB5S"
      },
      "source": [
        "<td>\n",
        "<a href=\"https://colab.research.google.com/github/Labelbox/labelbox-python/blob/develop/examples/basics/data_rows.ipynb\" target=\"_blank\"><img\n",
        "src=\"https://colab.research.google.com/assets/colab-badge.svg\" alt=\"Open In Colab\"></a>\n",
        "</td>\n",
        "\n",
        "<td>\n",
        "<a href=\"https://github.com/Labelbox/labelbox-python/tree/develop/examples/basics/data_rows.ipynb\" target=\"_blank\"><img\n",
        "src=\"https://img.shields.io/badge/GitHub-100000?logo=github&logoColor=white\" alt=\"GitHub\"></a>\n",
        "</td>"
      ]
    },
    {
      "cell_type": "markdown",
      "id": "rlVGjL9iYB5T",
      "metadata": {
        "id": "rlVGjL9iYB5T"
      },
      "source": [
        "# Data rows"
      ]
    },
    {
      "cell_type": "markdown",
      "id": "kTFGTrhrYB5T",
      "metadata": {
        "id": "kTFGTrhrYB5T"
      },
      "source": [
        "* Data rows are the items that are actually being labeled. We currently support the following:\n",
        "    * Image\n",
        "    * Text\n",
        "    * Video\n",
        "    * Geospatial / Tiled Imagery\n",
        "    * Audio\n",
        "    * Documents (Beta)\n",
        "    * HTML (Beta)\n",
        "    * DICOM (Beta)\n",
        "* A data row is a member of a dataset \n",
        "* A data row cannot exist without belonging to a dataset.\n",
        "* DataRows are added to labeling tasks by first attaching them to datasets and then attaching datasets to projects."
      ]
    },
    {
      "cell_type": "code",
      "execution_count": 1,
      "id": "0x6072mAYB5T",
      "metadata": {
        "colab": {
          "base_uri": "https://localhost:8080/"
        },
        "id": "0x6072mAYB5T",
        "outputId": "e5e71222-ee66-488e-b5a2-ac6519309f46"
      },
      "outputs": [
        {
          "name": "stdout",
          "output_type": "stream",
          "text": [
            "\u001b[?25l     \u001b[90m━━━━━━━━━━━━━━━━━━━━━━━━━━━━━━━━━━━━━━━━\u001b[0m \u001b[32m0.0/185.5 KB\u001b[0m \u001b[31m?\u001b[0m eta \u001b[36m-:--:--\u001b[0m\r\u001b[2K     \u001b[90m━━━━━━━━━━━━━━━━━━━━━━━━━━━━━━━━━━━━━━━\u001b[0m \u001b[32m185.5/185.5 KB\u001b[0m \u001b[31m5.5 MB/s\u001b[0m eta \u001b[36m0:00:00\u001b[0m\n",
            "\u001b[?25h"
          ]
        }
      ],
      "source": [
        "!pip install -q labelbox"
      ]
    },
    {
      "cell_type": "code",
      "execution_count": 2,
      "id": "6JTMvZhMYB5U",
      "metadata": {
        "id": "6JTMvZhMYB5U"
      },
      "outputs": [],
      "source": [
        "from labelbox import DataRow, Client\n",
        "from labelbox.schema.data_row_metadata import DataRowMetadataField\n",
        "import uuid\n",
        "import os"
      ]
    },
    {
      "cell_type": "markdown",
      "id": "epzTqOxYYB5V",
      "metadata": {
        "id": "epzTqOxYYB5V"
      },
      "source": [
        "# API Key and Client\n",
        "Provide a valid api key below in order to properly connect to the Labelbox Client."
      ]
    },
    {
      "cell_type": "code",
      "execution_count": 4,
      "id": "EIAvYiyZYB5W",
      "metadata": {
        "id": "EIAvYiyZYB5W"
      },
      "outputs": [],
      "source": [
        "# Add your api key\n",
        "API_KEY = None\n",
        "client = Client(api_key=API_KEY)\n",
        "project = client.get_project(project_id = \"<insert any project ID for testing>\")"
      ]
    },
    {
      "cell_type": "markdown",
      "id": "nnR9tUATYB5W",
      "metadata": {
        "id": "nnR9tUATYB5W"
      },
      "source": [
        "### Read"
      ]
    },
    {
      "cell_type": "code",
      "execution_count": null,
      "id": "Tt-AZDRjYB5W",
      "metadata": {
        "id": "Tt-AZDRjYB5W"
      },
      "outputs": [],
      "source": [
        "batches = project.batches() #get all batches in a project\n",
        "data_rows = []\n",
        "\n",
        "#get all data rows in a batch project\n",
        "for batch in batches:\n",
        "    data_rows.extend(list(batch.export_data_rows()))\n",
        "\n",
        "data_row = data_rows[0] #Sample one data row"
      ]
    },
    {
      "cell_type": "code",
      "execution_count": null,
      "id": "51KZrT55YB5W",
      "metadata": {
        "colab": {
          "base_uri": "https://localhost:8080/"
        },
        "id": "51KZrT55YB5W",
        "outputId": "8915c8f0-e0b2-4f8d-e324-00c178583b30"
      },
      "outputs": [],
      "source": [
        "# Example information available in each Data Row\n",
        "print(\"Associated dataset\", data_row.dataset())\n",
        "print(\"Associated label(s)\", list(data_row.labels()))\n",
        "print(\"External id\", data_row.external_id)\n",
        "print(\"Global id\", data_row.global_key)"
      ]
    },
    {
      "cell_type": "markdown",
      "id": "xK1A0bAEYB5X",
      "metadata": {
        "id": "xK1A0bAEYB5X"
      },
      "source": [
        "### Create Dataset + Data Row\n",
        "* Create a single data row at a time"
      ]
    },
    {
      "cell_type": "code",
      "execution_count": 5,
      "id": "3QrqfrsNYB5X",
      "metadata": {
        "colab": {
          "base_uri": "https://localhost:8080/"
        },
        "id": "3QrqfrsNYB5X",
        "outputId": "53159d16-296e-4650-c92b-181891330815"
      },
      "outputs": [
        {
          "data": {
            "text/plain": [
              "<DataRow ID: cldp1qlcg0ps3071424p61jbl>"
            ]
          },
          "execution_count": 5,
          "metadata": {},
          "output_type": "execute_result"
        }
      ],
      "source": [
        "dataset = client.create_dataset(name=\"testing-dataset\")\n",
        "dataset.create_data_row(row_data=\"https://picsum.photos/200/300\")\n",
        "\n",
        "# It is reccomended that you use global keys or external ids but it is optional.\n",
        "# These are useful for users to maintain references to a data_row.\n",
        "dataset.create_data_row(\n",
        "    row_data=\"https://picsum.photos/200/300\",\n",
        "    external_id=str(uuid.uuid4())\n",
        "    )\n",
        "\n",
        "# You can also upload metadata along with your data_row\n",
        "mdo = client.get_data_row_metadata_ontology()\n",
        "dataset.create_data_row(row_data=\"https://picsum.photos/200/300\",\n",
        "                        external_id=str(uuid.uuid4()),\n",
        "                        metadata_fields=[\n",
        "                            DataRowMetadataField(\n",
        "                              schema_id=mdo.reserved_by_name[\"tag\"].uid,  # specify the schema id\n",
        "                              value=\"tag_string\", # typed inputs\n",
        "                            ),\n",
        "                        ], \n",
        ")"
      ]
    },
    {
      "cell_type": "markdown",
      "id": "JtwpnspkYB5X",
      "metadata": {
        "id": "JtwpnspkYB5X"
      },
      "source": [
        "* Bulk create data rows (This is much faster than creating individual data rows)"
      ]
    },
    {
      "cell_type": "code",
      "execution_count": null,
      "id": "z2fiyC8IYB5Y",
      "metadata": {
        "id": "z2fiyC8IYB5Y"
      },
      "outputs": [],
      "source": [
        "data_rows = [\n",
        "    {\n",
        "        \"row_data\": \"https://picsum.photos/id/829/200/300\",\n",
        "        \"global_key\": str(uuid.uuid4()),\n",
        "        \"external_ids\": str(uuid.uuid4())\n",
        "    }\n",
        "]\n",
        "bulk_create_data_row_task = dataset.create_data_rows(data_rows)\n",
        "bulk_create_data_row_task.wait_till_done() #(Optional) blocking call for synchronous operations and debugging"
      ]
    },
    {
      "cell_type": "code",
      "execution_count": null,
      "id": "z4bx-B-qYB5Y",
      "metadata": {
        "id": "z4bx-B-qYB5Y"
      },
      "outputs": [],
      "source": [
        "# Local paths\n",
        "local_data_path = '/tmp/test_data_row.txt'\n",
        "with open(local_data_path, 'w') as file:\n",
        "    file.write(\"sample data\")\n",
        "\n",
        "local_file_task = dataset.create_data_rows([local_data_path])\n",
        "local_file_task.wait_till_done() #(Optional) blocking call for synchronous operations and debugging"
      ]
    },
    {
      "cell_type": "code",
      "execution_count": null,
      "id": "vbF81oenYB5Y",
      "metadata": {
        "id": "vbF81oenYB5Y"
      },
      "outputs": [],
      "source": [
        "# You can mix local files with urls\n",
        "mix_task = dataset.create_data_rows([{\n",
        "    \"row_data\": \"https://picsum.photos/200/300\",\n",
        "    \"global_key\": str(uuid.uuid4())\n",
        "}, local_data_path])\n",
        "\n",
        "mix_task.wait_till_done() #(Optional) blocking call for synchronous operations and debugging"
      ]
    },
    {
      "cell_type": "code",
      "execution_count": null,
      "id": "WAFNsejKYB5Y",
      "metadata": {
        "id": "WAFNsejKYB5Y"
      },
      "outputs": [],
      "source": [
        "# Note that you cannot set external_ids at this time when uploading from local files.\n",
        "# To do this you have to first\n",
        "item_url = client.upload_file(local_data_path)\n",
        "example_task = dataset.create_data_rows([{\n",
        "    \"row_data\": item_url,\n",
        "    \"global_key\": str(uuid.uuid4())\n",
        "}])\n",
        "example_task.wait_till_done() #(Optional) blocking call for synchronous operations and debugging"
      ]
    },
    {
      "cell_type": "code",
      "execution_count": null,
      "id": "rwS6O0HZcI-8",
      "metadata": {
        "id": "rwS6O0HZcI-8"
      },
      "outputs": [],
      "source": [
        "# You can bulk upload Data Rows with metadata\n",
        "datarow_metadata = dataset.create_data_rows([{\n",
        "    \"row_data\": \"https://picsum.photos/200/300\",\n",
        "    \"global_key\": str(uuid.uuid4()),\n",
        "    \"metadata_fields\": [\n",
        "      DataRowMetadataField(\n",
        "        schema_id=mdo.reserved_by_name[\"tag\"].uid,  # specify the schema id\n",
        "        value=\"tag_string\", # typed inputs\n",
        "      ),\n",
        "    ], \n",
        "}])\n",
        "datarow_metadata.wait_till_done() #(Optional) blocking call for synchronous operations and debugging"
      ]
    },
    {
      "cell_type": "code",
      "execution_count": null,
      "id": "LenvfVzaGHxy",
      "metadata": {
        "id": "LenvfVzaGHxy"
      },
      "outputs": [],
      "source": []
    },
    {
      "cell_type": "code",
      "execution_count": null,
      "id": "52D9U5jWGICO",
      "metadata": {
        "id": "52D9U5jWGICO"
      },
      "outputs": [],
      "source": [
        "# You can bulk upload Data Rows with metadata\n",
        "datarow_attachments = dataset.create_data_rows([{\n",
        "    DataRow.row_data: \"https://picsum.photos/200/300\",\n",
        "    DataRow.external_id: str(uuid.uuid4()),\n",
        "    \"metadata_fields\": [\n",
        "      DataRowMetadataField(\n",
        "        schema_id=mdo.reserved_by_name[\"tag\"].uid,  # specify the schema id\n",
        "        value=\"tag_string\", # typed inputs\n",
        "      ),\n",
        "    ], \n",
        "}])\n",
        "datarow_metadata.wait_till_done() #(Optional) blocking call for synchronous operations and debugging"
      ]
    },
    {
      "cell_type": "code",
      "execution_count": null,
      "id": "Ia4AArzBYB5Y",
      "metadata": {
        "id": "Ia4AArzBYB5Y"
      },
      "outputs": [],
      "source": [
        "# To see the status or errors after calling wait_till_done()\n",
        "print(datarow_metadata.status, datarow_metadata.errors)"
      ]
    },
    {
      "cell_type": "markdown",
      "id": "VgQCeZOdYB5Y",
      "metadata": {
        "id": "VgQCeZOdYB5Y"
      },
      "source": [
        "### Update"
      ]
    },
    {
      "cell_type": "code",
      "execution_count": null,
      "id": "fZPeKs8vYB5Y",
      "metadata": {
        "colab": {
          "base_uri": "https://localhost:8080/"
        },
        "id": "fZPeKs8vYB5Y",
        "outputId": "5d2b28e4-3a31-4987-c69a-55f87ab82e30"
      },
      "outputs": [
        {
          "name": "stdout",
          "output_type": "stream",
          "text": [
            "ff84a2a0-7fd0-4844-bde3-da8daa798b28 ff84a2a0-7fd0-4844-bde3-da8daa798b28\n"
          ]
        }
      ],
      "source": [
        "# Useful for resigning urls\n",
        "new_id = str(uuid.uuid4())\n",
        "data_row.update(external_id=new_id)\n",
        "print(data_row.external_id, new_id)"
      ]
    },
    {
      "cell_type": "code",
      "execution_count": null,
      "id": "xQOT5GApYB5Y",
      "metadata": {
        "colab": {
          "base_uri": "https://localhost:8080/"
        },
        "id": "xQOT5GApYB5Y",
        "outputId": "88a3a2ac-b4b6-45f3-cea6-d2fde02acdff"
      },
      "outputs": [
        {
          "data": {
            "text/plain": [
              "<AssetAttachment ID: cldm8x4y30wlx07399urs0yg1>"
            ]
          },
          "execution_count": 36,
          "metadata": {},
          "output_type": "execute_result"
        }
      ],
      "source": [
        "# Create attachments on data rows\n",
        "# Attachments are visible for all projects connected to the data_row\n",
        "data_row.create_attachment(attachment_type=\"TEXT\",\n",
        "                           attachment_value=\"LABELERS WILL SEE THIS\")\n",
        "# See more information here:\n",
        "# https://docs.labelbox.com/reference/type-image\n",
        "# Note that attachment_value must always be a string (url to a video/image or a text value to display)"
      ]
    },
    {
      "cell_type": "markdown",
      "id": "G-FeGmJfYB5Y",
      "metadata": {
        "id": "G-FeGmJfYB5Y"
      },
      "source": [
        "### Delete"
      ]
    },
    {
      "cell_type": "code",
      "execution_count": null,
      "id": "1ujXfIIcYB5Y",
      "metadata": {
        "id": "1ujXfIIcYB5Y"
      },
      "outputs": [],
      "source": [
        "data_row.delete()\n",
        "# Will remove from the dataset too"
      ]
    },
    {
      "cell_type": "code",
      "execution_count": null,
      "id": "e5R1gru2YB5Z",
      "metadata": {
        "id": "e5R1gru2YB5Z"
      },
      "outputs": [],
      "source": [
        "# Bulk delete a list of data_rows (in this case all of them we just uploaded)\n",
        "DataRow.bulk_delete(list(dataset.data_rows()))"
      ]
    }
  ],
  "metadata": {
    "colab": {
      "provenance": []
    },
    "kernelspec": {
      "display_name": "Python 3",
      "language": "python",
      "name": "python3"
    },
    "language_info": {
      "codemirror_mode": {
        "name": "ipython",
        "version": 3
      },
      "file_extension": ".py",
      "mimetype": "text/x-python",
      "name": "python",
      "nbconvert_exporter": "python",
      "pygments_lexer": "ipython3",
      "version": "3.8.5"
    }
  },
  "nbformat": 4,
  "nbformat_minor": 5
}
