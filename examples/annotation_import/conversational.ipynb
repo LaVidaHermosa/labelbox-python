{
  "nbformat": 4,
  "nbformat_minor": 5,
  "metadata": {},
  "cells": [
    {
      "metadata": {},
      "source": [
        "<td>\n",
        "   <a target=\"_blank\" href=\"https://labelbox.com\" ><img src=\"https://labelbox.com/blog/content/images/2021/02/logo-v4.svg\" width=256/></a>\n",
        "</td>"
      ],
      "cell_type": "markdown"
    },
    {
      "metadata": {},
      "source": [
        "<td>\n",
        "<a href=\"https://colab.research.google.com/github/Labelbox/labelbox-python/blob/master/examples/annotation_import/conversational.ipynb\" target=\"_blank\"><img\n",
        "src=\"https://colab.research.google.com/assets/colab-badge.svg\" alt=\"Open In Colab\"></a>\n",
        "</td>\n",
        "\n",
        "<td>\n",
        "<a href=\"https://github.com/Labelbox/labelbox-python/tree/master/examples/annotation_import/conversational.ipynb\" target=\"_blank\"><img\n",
        "src=\"https://img.shields.io/badge/GitHub-100000?logo=github&logoColor=white\" alt=\"GitHub\"></a>\n",
        "</td>"
      ],
      "cell_type": "markdown"
    },
    {
      "metadata": {},
      "source": [
        "# Conversational Text Annotation Import\n",
        "* This notebook will provide examples of each supported annotation type for conversational text assets, and also  cover MAL and Label Import methods:\n",
        "\n",
        "Suported annotations that can be uploaded through the SDK\n",
        "\n",
        "* Classification Radio \n",
        "* Classification Checklist \n",
        "* Classification Free Text \n",
        "* NER\n",
        "\n",
        "**Not** supported annotations\n",
        "\n",
        "* Bouding box \n",
        "* Polygon \n",
        "* Point\n",
        "* Polyline \n",
        "* Segmentation Mask \n",
        "\n",
        "MAL and Label Import:\n",
        "\n",
        "* Model-assisted labeling - used to provide pre-annotated data for your labelers. This will enable a reduction in the total amount of time to properly label your assets. Model-assisted labeling does not submit the labels automatically, and will need to be reviewed by a labeler for submission.\n",
        "* Label Import - used to provide ground truth labels. These can in turn be used and compared against prediction labels, or used as benchmarks to see how your labelers are doing.\n",
        "\n"
      ],
      "cell_type": "markdown"
    },
    {
      "metadata": {},
      "source": [
        "* For information on what types of annotations are supported per data type, refer to this documentation:\n",
        "    * https://docs.labelbox.com/docs/model-assisted-labeling#option-1-import-via-python-annotation-types-recommended"
      ],
      "cell_type": "markdown"
    },
    {
      "metadata": {},
      "source": [
        "* Notes:\n",
        "    * Wait until the import job is complete before opening the Editor to make sure all annotations are imported properly."
      ],
      "cell_type": "markdown"
    },
    {
      "metadata": {},
      "source": [
        "# !pip install -q 'labelbox[data]'"
      ],
      "cell_type": "code",
      "outputs": [],
      "execution_count": null
    },
    {
      "metadata": {},
      "source": [
        "# Setup"
      ],
      "cell_type": "markdown"
    },
    {
      "metadata": {},
      "source": [
        "import labelbox as lb\n",
        "import uuid\n",
        "import labelbox.types as lb_types"
      ],
      "cell_type": "code",
      "outputs": [],
      "execution_count": null
    },
    {
      "metadata": {},
      "source": [
        "# Replace with your API key\n",
        "Guides on [Create an API key](https://docs.labelbox.com/docs/create-an-api-key)"
      ],
      "cell_type": "markdown"
    },
    {
      "metadata": {},
      "source": [
        "# Add your api key\n",
        "API_KEY = \"\"\n",
        "client = lb.Client(api_key=API_KEY)"
      ],
      "cell_type": "code",
      "outputs": [],
      "execution_count": null
    },
    {
      "metadata": {},
      "source": [
        "## Supported annotations for conversational text"
      ],
      "cell_type": "markdown"
    },
    {
      "metadata": {},
      "source": [
        "### NDJSON Annotations "
      ],
      "cell_type": "markdown"
    },
    {
      "metadata": {},
      "source": [
        "# message based classifications\n",
        "ner_annotation = lb_types.ObjectAnnotation(\n",
        "    name=\"ner\",\n",
        "    value=lb_types.ConversationEntity(\n",
        "        start=0,\n",
        "        end=8,\n",
        "        message_id=\"4\"\n",
        "    )\n",
        ")\n",
        "\n",
        "ner_annotation_ndjson = { \n",
        "        \"name\": \"ner\",\n",
        "        \"location\": { \n",
        "            \"start\": 0, \n",
        "            \"end\": 8 \n",
        "        },\n",
        "        \"messageId\": \"4\"\n",
        "    }"
      ],
      "cell_type": "code",
      "outputs": [],
      "execution_count": null
    },
    {
      "metadata": {},
      "source": [
        "##### Classification free text #####\n",
        "\n",
        "text_annotation = lb_types.ClassificationAnnotation(\n",
        "    name=\"text_convo\",\n",
        "    value=lb_types.Text(answer=\"the answer to the text questions right here\"),\n",
        "    message_id=\"0\"\n",
        ")\n",
        "\n",
        "\n",
        "text_annotation_ndjson = {\n",
        "    'name': 'text_convo',\n",
        "    'answer': 'the answer to the text questions right here',\n",
        "    'messageId': \"0\"\n",
        "}"
      ],
      "cell_type": "code",
      "outputs": [],
      "execution_count": null
    },
    {
      "metadata": {},
      "source": [
        "##### Checklist Classification ####### \n",
        "\n",
        "checklist_annotation= lb_types.ClassificationAnnotation(\n",
        "  name=\"checklist_convo\", # must match your ontology feature's name\n",
        "  value=lb_types.Checklist(\n",
        "      answer = [\n",
        "        lb_types.ClassificationAnswer(\n",
        "            name = \"first_checklist_answer\"\n",
        "        ), \n",
        "        lb_types.ClassificationAnswer(\n",
        "            name = \"second_checklist_answer\"\n",
        "        )\n",
        "      ]\n",
        "    ),\n",
        "  message_id=\"2\"\n",
        " )\n",
        "\n",
        "\n",
        "checklist_annotation_ndjson = {\n",
        "    'name': 'checklist_convo',\n",
        "    'answers': [\n",
        "        {'name': 'first_checklist_answer'},\n",
        "        {'name': 'second_checklist_answer'}\n",
        "    ],\n",
        "    'messageId': '2'\n",
        "}"
      ],
      "cell_type": "code",
      "outputs": [],
      "execution_count": null
    },
    {
      "metadata": {},
      "source": [
        "######## Radio Classification ######\n",
        "\n",
        "radio_annotation = lb_types.ClassificationAnnotation(\n",
        "    name='radio_convo', \n",
        "    value=lb_types.Radio(answer = lb_types.ClassificationAnswer(name = 'first_radio_answer')),\n",
        "    message_id=\"0\"\n",
        ")\n",
        "\n",
        "radio_annotation_ndjson = {\n",
        "    'name': 'radio_convo',\n",
        "    'answer': {\n",
        "        'name': 'first_radio_answer'\n",
        "    },\n",
        "    'messageId': '0',\n",
        "}"
      ],
      "cell_type": "code",
      "outputs": [],
      "execution_count": null
    },
    {
      "metadata": {},
      "source": [
        "uuid_source = str(uuid.uuid4())\n",
        "uuid_target = str(uuid.uuid4())\n",
        "\n",
        "entity_source = {\n",
        "  'name': 'ner',\n",
        "  'uuid': uuid_source,\n",
        "  'location': {\n",
        "          \"start\" : 9,\n",
        "          \"end\": 11          \n",
        "      },\n",
        "  'messageId': '0'\n",
        "}\n",
        "\n",
        "entity_target = {\n",
        "  'name': 'ner',\n",
        "  'uuid': uuid_target,\n",
        "  'location': {\n",
        "    \"start\": 14,\n",
        "    \"end\": 19\n",
        "  },\n",
        "  'messageId': '0'\n",
        "}\n",
        "\n",
        "relationship_annotation_ndjson = {\n",
        "    \"name\": \"relationship\", \n",
        "    \"relationship\": {\n",
        "      \"source\": uuid_source,\n",
        "      \"target\": uuid_target,\n",
        "      \"type\": \"unidirectional\"\n",
        "    }\n",
        "}"
      ],
      "cell_type": "code",
      "outputs": [],
      "execution_count": null
    },
    {
      "metadata": {},
      "source": [
        "## Upload Annotations - putting it all together "
      ],
      "cell_type": "markdown"
    },
    {
      "metadata": {},
      "source": [
        "## Step 1: Import data rows into Catalog"
      ],
      "cell_type": "markdown"
    },
    {
      "metadata": {},
      "source": [
        "# Create one Labelbox dataset\n",
        "\n",
        "global_key = \"conversation-1.json\"\n",
        "\n",
        "asset = {\n",
        "    \"row_data\": \"https://storage.googleapis.com/labelbox-developer-testing-assets/conversational_text/1000-conversations/conversation-1.json\",\n",
        "    \"global_key\": global_key\n",
        "}\n",
        "\n",
        "dataset = client.create_dataset(name=\"conversational_annotation_import_demo_dataset\")\n",
        "task = dataset.create_data_rows([asset])\n",
        "task.wait_till_done()\n",
        "print(\"Errors:\", task.errors)\n",
        "print(\"Failed data rows: \", task.failed_data_rows)"
      ],
      "cell_type": "code",
      "outputs": [
        {
          "name": "stderr",
          "output_type": "stream",
          "text": [
            "There are errors present. Please look at `task.errors` for more details\n"
          ]
        },
        {
          "name": "stdout",
          "output_type": "stream",
          "text": [
            "Errors: Duplicate global keys found: conversation-1.json\n",
            "Failed data rows:  [{'message': 'Duplicate global keys found: conversation-1.json', 'failedDataRows': [{'globalKey': 'conversation-1.json', 'rowData': 'https://storage.googleapis.com/labelbox-developer-testing-assets/conversational_text/1000-conversations/conversation-1.json', 'attachmentInputs': []}]}]\n"
          ]
        }
      ],
      "execution_count": null
    },
    {
      "metadata": {},
      "source": [
        "## Step 2: Create/select an ontology\n",
        "\n",
        "Your project should have the correct ontology setup with all the tools and classifications supported for your annotations, and the tool names and classification instructions should match the `name` fields in your annotations to ensure the correct feature schemas are matched.\n",
        "\n",
        "For example, when we create the text annotation, we provided the `name` as `text_convo`. Now, when we setup our ontology, we must ensure that the name of the tool is also `text_convo`. The same alignment must hold true for the other tools and classifications we create in our ontology."
      ],
      "cell_type": "markdown"
    },
    {
      "metadata": {},
      "source": [
        "ontology_builder = lb.OntologyBuilder(\n",
        "  tools=[ \n",
        "    lb.Tool( # NER tool given the name \"ner\"\n",
        "      tool=lb.Tool.Type.NER, \n",
        "      name=\"ner\"), \n",
        "    lb.Tool(\n",
        "      tool=lb.Tool.Type.RELATIONSHIP,\n",
        "      name=\"relationship\"\n",
        "    )\n",
        "    ], \n",
        "  classifications=[ \n",
        "    lb.Classification( \n",
        "      class_type=lb.Classification.Type.TEXT,\n",
        "      scope=lb.Classification.Scope.INDEX,          \n",
        "      instructions=\"text_convo\"), \n",
        "    lb.Classification( \n",
        "      class_type=lb.Classification.Type.CHECKLIST, \n",
        "      scope=lb.Classification.Scope.INDEX,                     \n",
        "      instructions=\"checklist_convo\", \n",
        "      options=[\n",
        "        lb.Option(value=\"first_checklist_answer\"),\n",
        "        lb.Option(value=\"second_checklist_answer\")            \n",
        "      ]\n",
        "    ), \n",
        "    lb.Classification( \n",
        "      class_type=lb.Classification.Type.RADIO, \n",
        "      instructions=\"radio_convo\", \n",
        "      scope=lb.Classification.Scope.INDEX,          \n",
        "      options=[\n",
        "        lb.Option(value=\"first_radio_answer\"),\n",
        "        lb.Option(value=\"second_radio_answer\")\n",
        "      ]\n",
        "    )\n",
        "  ]\n",
        ")\n",
        "\n",
        "ontology = client.create_ontology(\"Ontology Conversation Annotations\", ontology_builder.asdict())"
      ],
      "cell_type": "code",
      "outputs": [
        {
          "name": "stderr",
          "output_type": "stream",
          "text": [
            "/Users/aovalle/Desktop/labelbox-python-2/labelbox/schema/ontology.py:169: UserWarning: When creating the Classification feature, please use \u201cname\u201d for the classification schema name, which will be used when creating annotation payload for Model-Assisted Labeling Import and Label Import. \u201cinstructions\u201d is no longer supported to specify classification schema name.\n",
            "  warnings.warn(msg)\n"
          ]
        }
      ],
      "execution_count": null
    },
    {
      "metadata": {},
      "source": [
        "\n",
        "## Step 3: Create a labeling project\n",
        "Connect the ontology to the labeling project"
      ],
      "cell_type": "markdown"
    },
    {
      "metadata": {},
      "source": [
        "# Create Labelbox project\n",
        "project = client.create_project(name=\"conversational_project\", \n",
        "                                    media_type=lb.MediaType.Conversational)\n",
        "\n",
        "# Setup your ontology \n",
        "project.setup_editor(ontology) # Connect your ontology and editor to your project"
      ],
      "cell_type": "code",
      "outputs": [
        {
          "name": "stderr",
          "output_type": "stream",
          "text": [
            "Default createProject behavior will soon be adjusted to prefer batch projects. Pass in `queue_mode` parameter explicitly to opt-out for the time being.\n"
          ]
        }
      ],
      "execution_count": null
    },
    {
      "metadata": {},
      "source": [
        "## Step 4: Send a batch of data rows to the project"
      ],
      "cell_type": "markdown"
    },
    {
      "metadata": {},
      "source": [
        "# Setup Batches and Ontology\n",
        "\n",
        "# Create a batch to send to your MAL project\n",
        "batch = project.create_batch(\n",
        "  \"first-batch-convo-demo\", # Each batch in a project must have a unique name\n",
        "  global_keys=[global_key], # Paginated collection of data row objects, list of data row ids or global keys\n",
        "  priority=5 # priority between 1(Highest) - 5(lowest)\n",
        ")\n",
        "\n",
        "print(\"Batch: \", batch)"
      ],
      "cell_type": "code",
      "outputs": [
        {
          "name": "stdout",
          "output_type": "stream",
          "text": [
            "Batch:  <Batch {\n",
            "    \"consensus_settings_json\": \"{\\\"numberOfLabels\\\":1,\\\"coveragePercentage\\\":0}\",\n",
            "    \"created_at\": \"2023-03-27 19:05:37+00:00\",\n",
            "    \"name\": \"first-batch-convo-demo\",\n",
            "    \"size\": 0,\n",
            "    \"uid\": \"5bf477e0-ccd2-11ed-96a9-65c39364316f\",\n",
            "    \"updated_at\": \"2023-03-27 19:05:37+00:00\"\n",
            "}>\n"
          ]
        }
      ],
      "execution_count": null
    },
    {
      "metadata": {},
      "source": [
        "## Step 5: Create the annotations payload\n",
        "Create the annotations payload using the snippets of code above\n",
        "\n",
        "Labelbox support two formats for the annotations payload: NDJSON and Python Annotation types. However,for conversational texts NDJSON is the only supported format. "
      ],
      "cell_type": "markdown"
    },
    {
      "metadata": {},
      "source": [
        "#### Python annotation\n",
        "Here we create the complete labels ndjson payload of annotations only using python annotation format. There is one annotation for each reference to an annotation that we created. "
      ],
      "cell_type": "markdown"
    },
    {
      "metadata": {},
      "source": [
        "label = []\n",
        "label.append(\n",
        "  lb_types.Label(\n",
        "    data=lb_types.ConversationData(\n",
        "      global_key=global_key\n",
        "    ),\n",
        "    annotations=[\n",
        "      ner_annotation,\n",
        "      text_annotation,\n",
        "      checklist_annotation,\n",
        "      radio_annotation\n",
        "    ]\n",
        "  )\n",
        ")"
      ],
      "cell_type": "code",
      "outputs": [],
      "execution_count": null
    },
    {
      "metadata": {},
      "source": [
        "### NDJSON annotations \n",
        "Here we create the complete label NDJSON payload of annotations only using NDJSON format. There is one annotation for each reference to an annotation that we created [above](https://colab.research.google.com/drive/1rFv-VvHUBbzFYamz6nSMRJz1mEg6Ukqq#scrollTo=3umnTd-MfI0o&line=1&uniqifier=1)."
      ],
      "cell_type": "markdown"
    },
    {
      "metadata": {},
      "source": [
        "label_ndjson = []\n",
        "for annotations in [ner_annotation_ndjson,\n",
        "                    text_annotation_ndjson,\n",
        "                    checklist_annotation_ndjson,\n",
        "                    radio_annotation_ndjson,\n",
        "                    entity_source,\n",
        "                    entity_target,\n",
        "                    relationship_annotation_ndjson\n",
        "                    ]:\n",
        "  annotations.update({\n",
        "      'dataRow': {\n",
        "          'globalKey': global_key\n",
        "      }\n",
        "  })\n",
        "  label_ndjson.append(annotations)"
      ],
      "cell_type": "code",
      "outputs": [],
      "execution_count": null
    },
    {
      "metadata": {},
      "source": [
        "### Step 6: Upload annotations to a project as pre-labels or complete labels"
      ],
      "cell_type": "markdown"
    },
    {
      "metadata": {},
      "source": [
        "#### Model Assisted Labeling (MAL)\n",
        "For the purpose of this tutorial only run one of the label_ndjosn annotation type tools at the time (NDJSON or Annotation types). Delete the previous labels before uploading labels that use the 2nd method (ndjson)"
      ],
      "cell_type": "markdown"
    },
    {
      "metadata": {},
      "source": [
        "# Upload our label using Model-Assisted Labeling\n",
        "upload_job = lb.MALPredictionImport.create_from_objects(\n",
        "    client = client, \n",
        "    project_id = project.uid, \n",
        "    name=f\"mal_job-{str(uuid.uuid4())}\", \n",
        "    predictions=label_ndjson)\n",
        "\n",
        "upload_job.wait_until_done();\n",
        "print(\"Errors:\", upload_job.errors)\n",
        "print(\"Status of uploads: \", upload_job.statuses)"
      ],
      "cell_type": "code",
      "outputs": [
        {
          "name": "stdout",
          "output_type": "stream",
          "text": [
            "Errors: []\n",
            "Status of uploads:  [{'uuid': '8ab3c75b-bd79-4495-950b-62f26d64789d', 'dataRow': {'id': 'clfbnskoxb9q9076fbyjngwhm', 'globalKey': 'conversation-1.json'}, 'status': 'SUCCESS'}, {'uuid': 'b5e4cfd7-3b08-441b-aff1-b40af6daa13a', 'dataRow': {'id': 'clfbnskoxb9q9076fbyjngwhm', 'globalKey': 'conversation-1.json'}, 'status': 'SUCCESS'}, {'uuid': '9fa4ba63-f837-40c9-9ed2-d693a442c36f', 'dataRow': {'id': 'clfbnskoxb9q9076fbyjngwhm', 'globalKey': 'conversation-1.json'}, 'status': 'SUCCESS'}, {'uuid': '6bbbf815-cb0c-405f-8808-4b24d2940d96', 'dataRow': {'id': 'clfbnskoxb9q9076fbyjngwhm', 'globalKey': 'conversation-1.json'}, 'status': 'SUCCESS'}, {'uuid': '9c09e912-c702-4ee5-9818-9ee67fc6fa5f', 'dataRow': {'id': 'clfbnskoxb9q9076fbyjngwhm', 'globalKey': 'conversation-1.json'}, 'status': 'SUCCESS'}, {'uuid': 'aa41472e-818e-46dc-91a9-edce9e7c0b3c', 'dataRow': {'id': 'clfbnskoxb9q9076fbyjngwhm', 'globalKey': 'conversation-1.json'}, 'status': 'SUCCESS'}]\n"
          ]
        }
      ],
      "execution_count": null
    },
    {
      "metadata": {},
      "source": [
        "#### Label Import"
      ],
      "cell_type": "markdown"
    },
    {
      "metadata": {},
      "source": [
        "# Upload label for this data row in project \n",
        "# Uncomment if you are not importing relationships. \n",
        "# Relationships will be supported during label import in the near future. \n",
        "\n",
        "\n",
        "# upload_job = lb.LabelImport.create_from_objects(\n",
        "#     client = client, \n",
        "#     project_id = project.uid, \n",
        "#     name=\"label_import_job\"+str(uuid.uuid4()),  \n",
        "#     labels=label_ndjso)\n",
        "\n",
        "# upload_job.wait_until_done();\n",
        "# print(\"Errors:\", upload_job.errors)\n",
        "# print(\"Status of uploads: \", upload_job.statuses)"
      ],
      "cell_type": "code",
      "outputs": [],
      "execution_count": null
    },
    {
      "metadata": {},
      "source": [
        "### Optional deletions for cleanup "
      ],
      "cell_type": "markdown"
    },
    {
      "metadata": {},
      "source": [
        "# project.delete()\n",
        "# dataset.delete()"
      ],
      "cell_type": "code",
      "outputs": [],
      "execution_count": null
    }
  ]
}