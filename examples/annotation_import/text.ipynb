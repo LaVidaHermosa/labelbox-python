{
  "cells": [
    {
      "cell_type": "markdown",
      "id": "a6a048e8-b5fe-418b-aec4-829b5b6802e5",
      "metadata": {
        "id": "a6a048e8-b5fe-418b-aec4-829b5b6802e5"
      },
      "source": [
        "<td>\n",
        "   <a target=\"_blank\" href=\"https://labelbox.com\" ><img src=\"https://labelbox.com/static/images/logo-v4.svg\" width=190/></a>\n",
        "</td>"
      ]
    },
    {
      "cell_type": "markdown",
      "id": "51cf1362-1cde-4749-aac7-5fb94473baa7",
      "metadata": {
        "id": "51cf1362-1cde-4749-aac7-5fb94473baa7"
      },
      "source": [
        "<td>\n",
        "<a href=\"https://colab.research.google.com/github/Labelbox/labelbox-python/blob/develop/examples/annotation_import/text.ipynb\" target=\"_blank\"><img\n",
        "src=\"https://colab.research.google.com/assets/colab-badge.svg\" alt=\"Open In Colab\"></a>\n",
        "</td>\n",
        "\n",
        "<td>\n",
        "<a href=\"https://github.com/Labelbox/labelbox-python/tree/develop/examples/annotation_import/text.ipynb\" target=\"_blank\"><img\n",
        "src=\"https://img.shields.io/badge/GitHub-100000?logo=github&logoColor=white\" alt=\"GitHub\"></a>\n",
        "</td>"
      ]
    },
    {
      "cell_type": "markdown",
      "id": "339795d3-e36c-4470-8605-62bfdd5eea29",
      "metadata": {
        "id": "339795d3-e36c-4470-8605-62bfdd5eea29"
      },
      "source": [
        "# Text Annotation Import\n",
        "* This notebook will provide examples of each supported annotation type for text assets. It will cover the following:\n",
        "    * Model-assisted labeling - used to provide pre-annotated data for your labelers. This will enable a reduction in the total amount of time to properly label your assets. Model-assisted labeling does not submit the labels automatically, and will need to be reviewed by a labeler for submission.\n",
        "    * Label Import - used to provide ground truth labels. These can in turn be used and compared against prediction labels, or used as benchmarks to see how your labelers are doing."
      ]
    },
    {
      "cell_type": "markdown",
      "id": "e76f007b-9465-4acd-9008-20e25e4a4b98",
      "metadata": {
        "id": "e76f007b-9465-4acd-9008-20e25e4a4b98"
      },
      "source": [
        "* For information on what types of annotations are supported per data type, refer to this [documentation](https://docs.labelbox.com/docs/model-assisted-labeling#option-1-import-via-python-annotation-types-recommended)"
      ]
    },
    {
      "cell_type": "markdown",
      "id": "f53d50fc-8d3c-452b-9aaf-f6170aaa5576",
      "metadata": {
        "id": "f53d50fc-8d3c-452b-9aaf-f6170aaa5576"
      },
      "source": [
        "* Notes:\n",
        "    * Wait until the import job is complete before opening the Editor to make sure all annotations are imported properly."
      ]
    },
    {
      "cell_type": "markdown",
      "id": "5effdaa3-e701-4804-aa33-bbbaed99eb92",
      "metadata": {
        "id": "5effdaa3-e701-4804-aa33-bbbaed99eb92"
      },
      "source": [
        "# Installs"
      ]
    },
    {
      "cell_type": "code",
      "execution_count": null,
      "id": "4d63074b-2379-48af-b9d6-2a66190f03c4",
      "metadata": {
        "id": "4d63074b-2379-48af-b9d6-2a66190f03c4"
      },
      "outputs": [],
      "source": [
        "!pip install -q 'labelbox[data]'"
      ]
    },
    {
      "cell_type": "markdown",
      "id": "6f3cdca1-524f-4247-a63b-2d4371b0257d",
      "metadata": {
        "id": "6f3cdca1-524f-4247-a63b-2d4371b0257d"
      },
      "source": [
        "# Imports"
      ]
    },
    {
      "cell_type": "code",
      "execution_count": 2,
      "id": "01fca8c9-0680-4a9c-a11e-1b49f31e9121",
      "metadata": {
        "id": "01fca8c9-0680-4a9c-a11e-1b49f31e9121"
      },
      "outputs": [],
      "source": [
        "from labelbox.schema.ontology import OntologyBuilder, Tool, Classification, Option\n",
        "from labelbox import Client, LabelingFrontend, LabelImport, MALPredictionImport, MediaType\n",
        "from labelbox.schema.queue_mode import QueueMode\n",
        "from labelbox.data.annotation_types import (\n",
        "    Label, TextData, Checklist, Radio, ObjectAnnotation, TextEntity,\n",
        "    ClassificationAnnotation, ClassificationAnswer, LabelList\n",
        ")\n",
        "from labelbox.data.serialization import NDJsonConverter\n",
        "import uuid\n",
        "import json\n",
        "import numpy as np"
      ]
    },
    {
      "cell_type": "markdown",
      "id": "a72d96e8-33ce-434d-b330-393e1c31702a",
      "metadata": {
        "id": "a72d96e8-33ce-434d-b330-393e1c31702a"
      },
      "source": [
        "# API Key and Client\n",
        "Provide a valid api key below in order to properly connect to the Labelbox Client."
      ]
    },
    {
      "cell_type": "code",
      "execution_count": 3,
      "id": "86003724-4807-4281-95c1-5284a6f9609f",
      "metadata": {
        "id": "86003724-4807-4281-95c1-5284a6f9609f"
      },
      "outputs": [],
      "source": [
        "# Add your api key\n",
        "API_KEY=None\n",
        "client = Client(api_key=API_KEY)"
      ]
    },
    {
      "cell_type": "markdown",
      "id": "960998ac-bde4-4184-8b7d-26d8e019cc7f",
      "metadata": {
        "id": "960998ac-bde4-4184-8b7d-26d8e019cc7f"
      },
      "source": [
        "---- \n",
        "### Steps\n",
        "1. Make sure project is setup\n",
        "2. Collect annotations\n",
        "3. Upload"
      ]
    },
    {
      "cell_type": "markdown",
      "id": "82a7381b-2409-4ed3-9d25-881a1e1d8ca6",
      "metadata": {
        "id": "82a7381b-2409-4ed3-9d25-881a1e1d8ca6"
      },
      "source": [
        "### Project setup"
      ]
    },
    {
      "cell_type": "markdown",
      "id": "d51fd2e1-bf5f-4c61-bca1-929f43b076ed",
      "metadata": {
        "id": "d51fd2e1-bf5f-4c61-bca1-929f43b076ed"
      },
      "source": [
        "We will be creating two projects, one for model-assisted labeling, and one for label imports"
      ]
    },
    {
      "cell_type": "code",
      "execution_count": 4,
      "id": "f9f9287c-aad7-4914-bc87-1453fb8bce81",
      "metadata": {
        "id": "f9f9287c-aad7-4914-bc87-1453fb8bce81"
      },
      "outputs": [],
      "source": [
        "ontology_builder = OntologyBuilder(\n",
        "    tools=[\n",
        "        Tool(tool=Tool.Type.NER, name=\"named_entity\")\n",
        "        ],\n",
        "    classifications=[\n",
        "        Classification(class_type=Classification.Type.CHECKLIST, instructions=\"checklist\", options=[\n",
        "            Option(value=\"first_checklist_answer\"),\n",
        "            Option(value=\"second_checklist_answer\")            \n",
        "        ]),\n",
        "        Classification(class_type=Classification.Type.RADIO, instructions=\"radio\", options=[\n",
        "            Option(value=\"first_radio_answer\"),\n",
        "            Option(value=\"second_radio_answer\")\n",
        "        ])])"
      ]
    },
    {
      "cell_type": "code",
      "execution_count": 5,
      "id": "044e9194-d21d-403e-b64c-047c1063b0fe",
      "metadata": {
        "id": "044e9194-d21d-403e-b64c-047c1063b0fe",
        "colab": {
          "base_uri": "https://localhost:8080/"
        },
        "outputId": "f0a26569-4637-46d6-8583-bf57db758163"
      },
      "outputs": [
        {
          "output_type": "stream",
          "name": "stdout",
          "text": [
            "<DataRow {'created_at': datetime.datetime(2022, 10, 28, 13, 49, 2, tzinfo=datetime.timezone.utc), 'external_id': None, 'global_key': 'TEST-ID-95211973871544529747766652579222388738d', 'media_attributes': {}, 'metadata': [], 'metadata_fields': [], 'row_data': 'https://storage.googleapis.com/labelbox-sample-datasets/nlp/lorem-ipsum.txt', 'uid': 'cl9sjvxht5wu707trh6wabl57', 'updated_at': datetime.datetime(2022, 10, 28, 13, 49, 2, tzinfo=datetime.timezone.utc)}>\n",
            "cl9sjvxht5wu707trh6wabl57\n"
          ]
        }
      ],
      "source": [
        "# Project defaults to batch mode with benchmark quality settings if this argument is not provided\n",
        "# Queue mode will be deprecated once dataset mode is deprecated\n",
        "\n",
        "mal_project = client.create_project(name=\"text_mal_project_demo\",\n",
        "                                    queue_mode=QueueMode.Batch,\n",
        "                                    auto_audit_percentage=1,\n",
        "                                    auto_audit_number_of_labels=1,\n",
        "                                    media_type=MediaType.Text)\n",
        "\n",
        "li_project = client.create_project(name=\"text_label_import_project_demo\",\n",
        "                                    queue_mode=QueueMode.Batch,\n",
        "                                    auto_audit_percentage=1,\n",
        "                                    auto_audit_number_of_labels=1,\n",
        "                                    media_type=MediaType.Text)\n",
        "\n",
        "\n",
        "dataset = client.create_dataset(name=\"text_annotation_import_demo_dataset\")\n",
        "\n",
        "test_txt_url = {\n",
        "    \"row_data\": \"https://storage.googleapis.com/labelbox-sample-datasets/nlp/lorem-ipsum.txt\",\n",
        "    \"global_key\": \"TEST-ID-%id\" % uuid.uuid1()\n",
        "    }\n",
        "data_row = dataset.create_data_row(test_txt_url)\n",
        "print(data_row)\n",
        "print(data_row.uid)\n",
        "\n",
        "\n",
        "\n",
        "######################### DATASET CONSENSUS OPTION ########################\n",
        "#Note that dataset base projects will be deprecated in the near future.\n",
        "\n",
        "#To use Datasets/Consensus instead of Batches/Benchmarks use the following query: \n",
        "#In this case, 10% of all data rows need to be annotated by three labelers.\n",
        "\n",
        "# dataset_project = client.create_project(name=\"dataset-test-project\",\n",
        "#                                 description=\"a description\",\n",
        "#                                 media_type=MediaType.Text,\n",
        "#                                 auto_audit_percentage=0.1,\n",
        "#                                 auto_audit_number_of_labels=3,\n",
        "#                                 queue_mode=QueueMode.Dataset)\n",
        "\n",
        "# dataset_project.datasets.connect(dataset)"
      ]
    },
    {
      "cell_type": "code",
      "source": [
        "# Setup Batches and Ontology\n",
        "\n",
        "# We need the data row ID to create a batch\n",
        "batch_datarows = [dr.uid for dr in list(dataset.export_data_rows())]\n",
        "\n",
        "# Create a batch to send to your MAL project\n",
        "batch_mal = mal_project.create_batch(\n",
        "  \"first-batch-MAL-text-demo\", # Each batch in a project must have a unique name\n",
        "  batch_datarows, # A list of data rows or data row ids\n",
        "  5 # priority between 1(Highest) - 5(lowest)\n",
        ")\n",
        "\n",
        "# Create a batch to send to you LI project\n",
        "batch_li = li_project.create_batch(\n",
        "    \"first-batch-LI-text-demo\", # Each batch in a project must have a unique name\n",
        "    batch_datarows, # A list of data rows or data row ids\n",
        "    5 # priority between 1(Highest) - 5(lowest)\n",
        ")\n",
        "\n",
        "# Setup your ontology / labeling editor\n",
        "editor = next(client.get_labeling_frontends(where=LabelingFrontend.name == \"Editor\")) # Unless using a custom editor,\n",
        "# Connect your ontology and editor to your MAL and LI project\n",
        "mal_project.setup(editor, ontology_builder.asdict())\n",
        "li_project.setup(editor, ontology_builder.asdict())\n",
        "\n",
        "print(\"Batch Li: \", batch_li)\n",
        "print(\"Batch Mal: \", batch_mal)"
      ],
      "metadata": {
        "id": "DbwheC8RzI-0",
        "colab": {
          "base_uri": "https://localhost:8080/"
        },
        "outputId": "72f3c6c7-611e-4d03-801e-05bb6a711572"
      },
      "id": "DbwheC8RzI-0",
      "execution_count": 6,
      "outputs": [
        {
          "output_type": "stream",
          "name": "stdout",
          "text": [
            "Batch Li:  <Batch {'created_at': datetime.datetime(2022, 10, 28, 13, 49, 10, tzinfo=datetime.timezone.utc), 'name': 'first-batch-LI-text-demo', 'size': 1, 'uid': '4cd63220-56c7-11ed-a38a-0d6305c21022', 'updated_at': datetime.datetime(2022, 10, 28, 13, 49, 10, tzinfo=datetime.timezone.utc)}>\n",
            "Batch Mal:  <Batch {'created_at': datetime.datetime(2022, 10, 28, 13, 49, 7, tzinfo=datetime.timezone.utc), 'name': 'first-batch-MAL-text-demo', 'size': 1, 'uid': '4ab8d060-56c7-11ed-8034-7b5989fe5ecd', 'updated_at': datetime.datetime(2022, 10, 28, 13, 49, 7, tzinfo=datetime.timezone.utc)}>\n"
          ]
        }
      ]
    },
    {
      "cell_type": "markdown",
      "id": "8da94c48-72a5-4535-ab66-6d14b0b79aed",
      "metadata": {
        "id": "8da94c48-72a5-4535-ab66-6d14b0b79aed"
      },
      "source": [
        "### Create Label using Annotation Type Objects\n",
        "* It is recommended to use the Python SDK's annotation types for importing into Labelbox."
      ]
    },
    {
      "cell_type": "markdown",
      "id": "ee9b9191-6c0d-4cba-859b-e2e9a1b887c8",
      "metadata": {
        "id": "ee9b9191-6c0d-4cba-859b-e2e9a1b887c8"
      },
      "source": [
        "### Object Annotations"
      ]
    },
    {
      "cell_type": "code",
      "execution_count": 7,
      "id": "d468b0d0-e7d8-42d9-81fd-3db7c67d7b83",
      "metadata": {
        "id": "d468b0d0-e7d8-42d9-81fd-3db7c67d7b83"
      },
      "outputs": [],
      "source": [
        "def create_objects():\n",
        "  named_enity = TextEntity(start=10,end=20)\n",
        "  named_enity_annotation = ObjectAnnotation(value=named_enity, name=\"named_entity\")\n",
        "  return named_enity_annotation"
      ]
    },
    {
      "cell_type": "markdown",
      "id": "291f9c97-37ba-42f5-b8f0-e118bdc5c848",
      "metadata": {
        "id": "291f9c97-37ba-42f5-b8f0-e118bdc5c848"
      },
      "source": [
        "### Classification Annotations"
      ]
    },
    {
      "cell_type": "code",
      "execution_count": 8,
      "id": "e1a03976-4e50-4d10-b7ad-1a83ccc51a2a",
      "metadata": {
        "id": "e1a03976-4e50-4d10-b7ad-1a83ccc51a2a"
      },
      "outputs": [],
      "source": [
        "def create_classifications():\n",
        "  checklist = Checklist(answer=[ClassificationAnswer(name=\"first_checklist_answer\"),ClassificationAnswer(name=\"second_checklist_answer\")])\n",
        "  checklist_annotation = ClassificationAnnotation(value=checklist, name=\"checklist\")\n",
        "  radio = Radio(answer = ClassificationAnswer(name = \"second_radio_answer\"))\n",
        "  radio_annotation = ClassificationAnnotation(value=radio, name=\"radio\")\n",
        "  return checklist_annotation, radio_annotation"
      ]
    },
    {
      "cell_type": "markdown",
      "id": "15bd593b-509d-4114-af95-ae0be081c42d",
      "metadata": {
        "id": "15bd593b-509d-4114-af95-ae0be081c42d"
      },
      "source": [
        "### Create a Label object with all of our annotations"
      ]
    },
    {
      "cell_type": "code",
      "execution_count": 9,
      "id": "6d72fe25-ff7e-4e0a-94cf-095e4df73da0",
      "metadata": {
        "colab": {
          "base_uri": "https://localhost:8080/"
        },
        "id": "6d72fe25-ff7e-4e0a-94cf-095e4df73da0",
        "outputId": "08e76d58-fa64-4dd0-bf38-c988641233f0"
      },
      "outputs": [
        {
          "output_type": "execute_result",
          "data": {
            "text/plain": [
              "{'uid': None,\n",
              " 'data': TextData(file_path=None,text=None,url=None),\n",
              " 'annotations': [ObjectAnnotation(name='named_entity', feature_schema_id=None, extra={}, value=TextEntity(start=10, end=20, extra={}), classifications=[]),\n",
              "  ClassificationAnnotation(name='checklist', feature_schema_id=None, extra={}, value=Checklist(name='checklist', answer=[ClassificationAnswer(name='first_checklist_answer', feature_schema_id=None, extra={}, keyframe=None), ClassificationAnswer(name='second_checklist_answer', feature_schema_id=None, extra={}, keyframe=None)])),\n",
              "  ClassificationAnnotation(name='radio', feature_schema_id=None, extra={}, value=Radio(answer=ClassificationAnswer(name='second_radio_answer', feature_schema_id=None, extra={}, keyframe=None)))],\n",
              " 'extra': {}}"
            ]
          },
          "metadata": {},
          "execution_count": 9
        }
      ],
      "source": [
        "image_data = TextData(uid=data_row.uid)\n",
        "\n",
        "named_enity_annotation = create_objects()\n",
        "checklist_annotation, radio_annotation = create_classifications()\n",
        "\n",
        "label = Label(\n",
        "    data=image_data,\n",
        "    annotations = [\n",
        "        named_enity_annotation, checklist_annotation, radio_annotation\n",
        "    ]\n",
        ")\n",
        "\n",
        "label.__dict__"
      ]
    },
    {
      "cell_type": "markdown",
      "id": "cc448767-1ded-4a02-af29-64b8b9f71d99",
      "metadata": {
        "id": "cc448767-1ded-4a02-af29-64b8b9f71d99"
      },
      "source": [
        "### Model Assisted Labeling "
      ]
    },
    {
      "cell_type": "markdown",
      "id": "90d5c6b7-0a67-481c-95a8-1791fe650767",
      "metadata": {
        "id": "90d5c6b7-0a67-481c-95a8-1791fe650767"
      },
      "source": [
        "To do model-assisted labeling, we need to convert a Label object into an NDJSON. \n",
        "\n",
        "This is easily done with using the NDJSONConverter class\n",
        "\n",
        "We will create a Label called mal_label which has the same original structure as the label above\n",
        "\n",
        "Notes:\n",
        "* the NDJsonConverter takes in a list of labels"
      ]
    },
    {
      "cell_type": "code",
      "execution_count": 10,
      "id": "53aaf87b-114f-4b56-a417-8c7cddc1f532",
      "metadata": {
        "id": "53aaf87b-114f-4b56-a417-8c7cddc1f532",
        "colab": {
          "base_uri": "https://localhost:8080/"
        },
        "outputId": "4fb3c3b1-dfed-4cd9-8960-7fe30b969f44"
      },
      "outputs": [
        {
          "output_type": "execute_result",
          "data": {
            "text/plain": [
              "[{'uuid': 'e827d42d-4221-4f29-bc52-3dee2ddb8b21',\n",
              "  'dataRow': {'id': 'cl9sjvxht5wu707trh6wabl57'},\n",
              "  'name': 'named_entity',\n",
              "  'classifications': [],\n",
              "  'location': {'start': 10, 'end': 20}},\n",
              " {'name': 'checklist',\n",
              "  'uuid': '1d522d16-87da-406a-a736-3e0488c7b300',\n",
              "  'dataRow': {'id': 'cl9sjvxht5wu707trh6wabl57'},\n",
              "  'answer': [{'name': 'first_checklist_answer'},\n",
              "   {'name': 'second_checklist_answer'}]},\n",
              " {'name': 'radio',\n",
              "  'answer': {'name': 'second_radio_answer'},\n",
              "  'uuid': '32ce5a4f-b936-4a87-b196-6ce3447ef897',\n",
              "  'dataRow': {'id': 'cl9sjvxht5wu707trh6wabl57'}}]"
            ]
          },
          "metadata": {},
          "execution_count": 10
        }
      ],
      "source": [
        "mal_label = Label(\n",
        "    data=image_data,\n",
        "    annotations = [\n",
        "        named_enity_annotation, checklist_annotation, radio_annotation\n",
        "    ]\n",
        ")\n",
        "mal_label_list = [mal_label]\n",
        "\n",
        "mal_ndjson = list(NDJsonConverter.serialize(mal_label_list))\n",
        "\n",
        "mal_ndjson"
      ]
    },
    {
      "cell_type": "code",
      "execution_count": 11,
      "id": "c66672c7-33e8-4d5d-b79d-2ac76d830341",
      "metadata": {
        "id": "c66672c7-33e8-4d5d-b79d-2ac76d830341"
      },
      "outputs": [],
      "source": [
        "upload_job = MALPredictionImport.create_from_objects(\n",
        "    client = client, \n",
        "    project_id = mal_project.uid, \n",
        "    name=\"upload_label_import_job_demo\", \n",
        "    predictions=mal_ndjson)"
      ]
    },
    {
      "cell_type": "code",
      "execution_count": 12,
      "id": "2a8f9e5f-eeeb-4cfa-9b97-a09495a64d41",
      "metadata": {
        "colab": {
          "base_uri": "https://localhost:8080/"
        },
        "id": "2a8f9e5f-eeeb-4cfa-9b97-a09495a64d41",
        "outputId": "ed099d05-2aea-4c4d-9480-a29e27bffa73"
      },
      "outputs": [
        {
          "output_type": "stream",
          "name": "stdout",
          "text": [
            "Errors: []\n"
          ]
        }
      ],
      "source": [
        "# Errors will appear for each annotation that failed.\n",
        "# This will provide information only after the upload_job is complete, so we do not need to worry about having to rerun\n",
        "upload_job.wait_until_done();\n",
        "print(\"Errors:\", upload_job.errors)"
      ]
    },
    {
      "cell_type": "markdown",
      "id": "aad5c035-c908-46c9-beac-f38da1befa25",
      "metadata": {
        "id": "aad5c035-c908-46c9-beac-f38da1befa25"
      },
      "source": [
        "### Label Import"
      ]
    },
    {
      "cell_type": "markdown",
      "id": "9d4fa318-7d08-4d98-b0ff-e2086814d75d",
      "metadata": {
        "id": "9d4fa318-7d08-4d98-b0ff-e2086814d75d"
      },
      "source": [
        "Label import is very similar to model-assisted labeling. We will create a Label called li_label which has the same original structure as the label above"
      ]
    },
    {
      "cell_type": "code",
      "execution_count": 14,
      "id": "e8d4e99b-ad7e-48b9-8073-afb764d7c5b4",
      "metadata": {
        "id": "e8d4e99b-ad7e-48b9-8073-afb764d7c5b4",
        "colab": {
          "base_uri": "https://localhost:8080/"
        },
        "outputId": "3689ed1b-7bba-48d4-a148-f213f71f37af"
      },
      "outputs": [
        {
          "output_type": "execute_result",
          "data": {
            "text/plain": [
              "[{'uuid': '7c26b3a6-15fe-4ca2-b031-5ec13e128cbb',\n",
              "  'dataRow': {'id': 'cl9sjvxht5wu707trh6wabl57'},\n",
              "  'name': 'named_entity',\n",
              "  'classifications': [],\n",
              "  'location': {'start': 10, 'end': 20}},\n",
              " {'name': 'checklist',\n",
              "  'uuid': '3b7e603c-d92c-43b4-b709-b39db6725dd0',\n",
              "  'dataRow': {'id': 'cl9sjvxht5wu707trh6wabl57'},\n",
              "  'answer': [{'name': 'first_checklist_answer'},\n",
              "   {'name': 'second_checklist_answer'}]},\n",
              " {'name': 'radio',\n",
              "  'answer': {'name': 'second_radio_answer'},\n",
              "  'uuid': '9ff3c585-4cfb-4805-8a79-f7c565d8f924',\n",
              "  'dataRow': {'id': 'cl9sjvxht5wu707trh6wabl57'}}]"
            ]
          },
          "metadata": {},
          "execution_count": 14
        }
      ],
      "source": [
        "#for the purpose of this notebook, we will need to reset the schema ids of our checklist and radio answers\n",
        "image_data = TextData(uid=data_row.uid)\n",
        "\n",
        "named_enity_annotation = create_objects()\n",
        "checklist_annotation, radio_annotation = create_classifications()\n",
        "\n",
        "li_label = Label(\n",
        "    data=image_data,\n",
        "    annotations = [\n",
        "        named_enity_annotation, checklist_annotation, radio_annotation\n",
        "    ]\n",
        ")\n",
        "li_label_list = [li_label]\n",
        "\n",
        "li_ndjson = list(NDJsonConverter.serialize(li_label_list))\n",
        "\n",
        "li_ndjson"
      ]
    },
    {
      "cell_type": "code",
      "execution_count": 15,
      "id": "e937ea0a-8beb-4dbc-974b-0316f0b980a5",
      "metadata": {
        "id": "e937ea0a-8beb-4dbc-974b-0316f0b980a5"
      },
      "outputs": [],
      "source": [
        "li_upload_job = LabelImport.create_from_objects(\n",
        "    client = client, \n",
        "    project_id = li_project.uid, \n",
        "    name=\"upload_label_import_job_demo\", \n",
        "    labels=li_ndjson)"
      ]
    },
    {
      "cell_type": "code",
      "execution_count": 16,
      "id": "3669b646-2d41-4c98-9e5b-f8ef3ce82f35",
      "metadata": {
        "colab": {
          "base_uri": "https://localhost:8080/"
        },
        "id": "3669b646-2d41-4c98-9e5b-f8ef3ce82f35",
        "outputId": "51d13d3c-5e75-4cb3-bad9-81672bb56f4e"
      },
      "outputs": [
        {
          "output_type": "stream",
          "name": "stdout",
          "text": [
            "Errors: []\n"
          ]
        }
      ],
      "source": [
        "# Errors will appear for each annotation that failed.\n",
        "# This will provide information only after the upload_job is complete, so we do not need to worry about having to rerun\n",
        "li_upload_job.wait_until_done();\n",
        "print(\"Errors:\", li_upload_job.errors)"
      ]
    },
    {
      "cell_type": "markdown",
      "source": [
        "## Cleanup"
      ],
      "metadata": {
        "id": "Sd4pttxL3bzp"
      },
      "id": "Sd4pttxL3bzp"
    },
    {
      "cell_type": "code",
      "source": [
        "# li_project.delete()\n",
        "# mal_project.delete()\n",
        "# dataset.delete()\n"
      ],
      "metadata": {
        "id": "ubbraAmo2_fe"
      },
      "id": "ubbraAmo2_fe",
      "execution_count": null,
      "outputs": []
    }
  ],
  "metadata": {
    "colab": {
      "collapsed_sections": [],
      "provenance": []
    },
    "kernelspec": {
      "display_name": "Python 3",
      "language": "python",
      "name": "python3"
    },
    "language_info": {
      "codemirror_mode": {
        "name": "ipython",
        "version": 3
      },
      "file_extension": ".py",
      "mimetype": "text/x-python",
      "name": "python",
      "nbconvert_exporter": "python",
      "pygments_lexer": "ipython3",
      "version": "3.8.8"
    }
  },
  "nbformat": 4,
  "nbformat_minor": 5
}
