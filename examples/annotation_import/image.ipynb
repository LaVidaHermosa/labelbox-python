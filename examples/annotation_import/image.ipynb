{
  "cells": [
    {
      "cell_type": "markdown",
      "id": "a6a048e8-b5fe-418b-aec4-829b5b6802e5",
      "metadata": {
        "id": "a6a048e8-b5fe-418b-aec4-829b5b6802e5"
      },
      "source": [
        "<td>\n",
        "   <a target=\"_blank\" href=\"https://labelbox.com\" ><img src=\"https://labelbox.com/static/images/logo-v4.svg\" width=190/></a>\n",
        "</td>"
      ]
    },
    {
      "cell_type": "markdown",
      "id": "51cf1362-1cde-4749-aac7-5fb94473baa7",
      "metadata": {
        "id": "51cf1362-1cde-4749-aac7-5fb94473baa7"
      },
      "source": [
        "<td>\n",
        "<a href=\"https://colab.research.google.com/github/Labelbox/labelbox-python/blob/develop/examples/annotation_import/image.ipynb\" target=\"_blank\"><img\n",
        "src=\"https://colab.research.google.com/assets/colab-badge.svg\" alt=\"Open In Colab\"></a>\n",
        "</td>\n",
        "\n",
        "<td>\n",
        "<a href=\"https://github.com/Labelbox/labelbox-python/blob/develop/examples/annotation_import/image.ipynb\" target=\"_blank\"><img\n",
        "src=\"https://img.shields.io/badge/GitHub-100000?logo=github&logoColor=white\" alt=\"GitHub\"></a>\n",
        "</td>"
      ]
    },
    {
      "cell_type": "markdown",
      "id": "339795d3-e36c-4470-8605-62bfdd5eea29",
      "metadata": {
        "id": "339795d3-e36c-4470-8605-62bfdd5eea29"
      },
      "source": [
        "# Image Annotation Import\n",
        "* This notebook will provide examples of each supported annotation type for image assets. It will cover the following:\n",
        "    * Model-Assisted Labeling (MAL) - used to provide pre-annotated data for your labelers. This will enable a reduction in the total amount of time to properly label your assets. Model-assisted labeling does not submit the labels automatically, and will need to be reviewed by a labeler for submission.\n",
        "    * Label Import - used to provide ground truth labels. These can in turn be used and compared against prediction labels, or used as benchmarks to see how your labelers are doing."
      ]
    },
    {
      "cell_type": "markdown",
      "id": "e76f007b-9465-4acd-9008-20e25e4a4b98",
      "metadata": {
        "id": "e76f007b-9465-4acd-9008-20e25e4a4b98"
      },
      "source": [
        "* For information on what types of annotations are supported per data type, refer to this documentation:\n",
        "    * https://docs.labelbox.com/docs/model-assisted-labeling#option-1-import-via-python-annotation-types-recommended"
      ]
    },
    {
      "cell_type": "markdown",
      "id": "f53d50fc-8d3c-452b-9aaf-f6170aaa5576",
      "metadata": {
        "id": "f53d50fc-8d3c-452b-9aaf-f6170aaa5576"
      },
      "source": [
        "* Notes:\n",
        "    * If you are importing more than 1,000 mask annotations at a time, consider submitting separate jobs, as they can take longer than other annotation types to import.\n",
        "    * Wait until the import job is complete before opening the Editor to make sure all annotations are imported properly.\n",
        "    * After the execution of this notebook a complete MAL and Label Import project with annotations will be created in your organization. "
      ]
    },
    {
      "cell_type": "markdown",
      "id": "5effdaa3-e701-4804-aa33-bbbaed99eb92",
      "metadata": {
        "id": "5effdaa3-e701-4804-aa33-bbbaed99eb92"
      },
      "source": [
        "# Installs"
      ]
    },
    {
      "cell_type": "code",
      "execution_count": null,
      "id": "4d63074b-2379-48af-b9d6-2a66190f03c4",
      "metadata": {
        "id": "4d63074b-2379-48af-b9d6-2a66190f03c4"
      },
      "outputs": [],
      "source": [
        "!pip install -q 'labelbox[data]'"
      ]
    },
    {
      "cell_type": "markdown",
      "id": "6f3cdca1-524f-4247-a63b-2d4371b0257d",
      "metadata": {
        "id": "6f3cdca1-524f-4247-a63b-2d4371b0257d"
      },
      "source": [
        "# Imports"
      ]
    },
    {
      "cell_type": "code",
      "execution_count": 2,
      "id": "01fca8c9-0680-4a9c-a11e-1b49f31e9121",
      "metadata": {
        "id": "01fca8c9-0680-4a9c-a11e-1b49f31e9121",
        "colab": {
          "base_uri": "https://localhost:8080/"
        },
        "outputId": "11b988f5-5b81-4701-d78a-892e9acf7ae9"
      },
      "outputs": [
        {
          "output_type": "stream",
          "name": "stdout",
          "text": [
            "3.28.0\n"
          ]
        }
      ],
      "source": [
        "import labelbox\n",
        "from labelbox.schema.ontology import OntologyBuilder, Tool, Classification, Option\n",
        "from labelbox.schema.queue_mode import QueueMode\n",
        "from labelbox import Client, LabelingFrontend, LabelImport, MALPredictionImport, MediaType\n",
        "from labelbox.data.annotation_types import (\n",
        "    Label, ImageData, ObjectAnnotation, MaskData,\n",
        "    Rectangle, Point, Line, Mask, Polygon,\n",
        "    Radio, Checklist, Text,\n",
        "    ClassificationAnnotation, ClassificationAnswer\n",
        ")\n",
        "from labelbox.data.serialization import NDJsonConverter\n",
        "import json\n",
        "import uuid\n",
        "import copy\n",
        "print(labelbox.__version__)"
      ]
    },
    {
      "cell_type": "markdown",
      "id": "a72d96e8-33ce-434d-b330-393e1c31702a",
      "metadata": {
        "id": "a72d96e8-33ce-434d-b330-393e1c31702a"
      },
      "source": [
        "# API Key and Client\n",
        "Provide a valid api key below in order to properly connect to the Labelbox Client."
      ]
    },
    {
      "cell_type": "code",
      "execution_count": 3,
      "id": "86003724-4807-4281-95c1-5284a6f9609f",
      "metadata": {
        "id": "86003724-4807-4281-95c1-5284a6f9609f"
      },
      "outputs": [],
      "source": [
        "# Add your api key\n",
        "API_KEY = None\n",
        "client = Client(api_key=API_KEY)"
      ]
    },
    {
      "cell_type": "markdown",
      "id": "960998ac-bde4-4184-8b7d-26d8e019cc7f",
      "metadata": {
        "id": "960998ac-bde4-4184-8b7d-26d8e019cc7f"
      },
      "source": [
        "---- \n",
        "### Steps\n",
        "1. Make sure project is setup\n",
        "2. Collect annotations\n",
        "3. Upload"
      ]
    },
    {
      "cell_type": "markdown",
      "id": "82a7381b-2409-4ed3-9d25-881a1e1d8ca6",
      "metadata": {
        "id": "82a7381b-2409-4ed3-9d25-881a1e1d8ca6"
      },
      "source": [
        "### Project setup"
      ]
    },
    {
      "cell_type": "markdown",
      "id": "d51fd2e1-bf5f-4c61-bca1-929f43b076ed",
      "metadata": {
        "id": "d51fd2e1-bf5f-4c61-bca1-929f43b076ed"
      },
      "source": [
        "We will be creating two projects, one for model-assisted labeling, and one for label imports"
      ]
    },
    {
      "cell_type": "markdown",
      "source": [
        "First, we create an ontology with all the possible tools and classifications supported for images. The official list of supported annotations to import can be found here:\n",
        "- [Model-Assisted Labeling](https://docs.labelbox.com/docs/model-assisted-labeling) (annotations/labels are not submitted)\n",
        "- [Ground Truth](https://docs.labelbox.com/docs/import-ground-truth) (annotations/labels are submitted)"
      ],
      "metadata": {
        "id": "49i_juOUr6av"
      },
      "id": "49i_juOUr6av"
    },
    {
      "cell_type": "code",
      "execution_count": 4,
      "id": "f9f9287c-aad7-4914-bc87-1453fb8bce81",
      "metadata": {
        "id": "f9f9287c-aad7-4914-bc87-1453fb8bce81"
      },
      "outputs": [],
      "source": [
        "ontology_builder = OntologyBuilder(\n",
        "  tools=[ # List of Tool objects\n",
        "    Tool( # Bounding Box tool given the name \"box\"\n",
        "      tool=Tool.Type.BBOX, \n",
        "      name=\"box\"), \n",
        "    Tool( # Polyline tool given the name \"line\"\n",
        "      tool=Tool.Type.LINE, \n",
        "      name=\"line\"), \n",
        "    Tool( # Point tool given the name \"point\"\n",
        "      tool=Tool.Type.POINT, \n",
        "      name=\"point\"), \n",
        "    Tool( # Polygon tool given the name \"polygon\"\n",
        "      tool=Tool.Type.POLYGON, \n",
        "      name=\"polygon\"), \n",
        "    Tool( # Segmentation mask tool given the name \"mask\"\n",
        "      tool=Tool.Type.SEGMENTATION, \n",
        "      name=\"mask\")], \n",
        "  classifications=[ # List of Classification objects\n",
        "    Classification( # Text classification given the name \"text\"\n",
        "      class_type=Classification.Type.TEXT,\n",
        "      instructions=\"text\"), \n",
        "    Classification( # Checklist classification given the name \"text\" with two options: \"first_checklist_answer\" and \"second_checklist_answer\"\n",
        "      class_type=Classification.Type.CHECKLIST, \n",
        "      instructions=\"checklist\", \n",
        "      options=[\n",
        "        Option(value=\"first_checklist_answer\"),\n",
        "        Option(value=\"second_checklist_answer\")            \n",
        "      ]\n",
        "    ), \n",
        "    Classification( # Radio classification given the name \"text\" with two options: \"first_radio_answer\" and \"second_radio_answer\"\n",
        "      class_type=Classification.Type.RADIO, \n",
        "      instructions=\"radio\", \n",
        "      options=[\n",
        "        Option(value=\"first_radio_answer\"),\n",
        "        Option(value=\"second_radio_answer\")\n",
        "      ]\n",
        "    )\n",
        "  ]\n",
        ")"
      ]
    },
    {
      "cell_type": "markdown",
      "source": [
        "To show the two different ways to upload annotations, we create two projects - one to showcase MAL (Model-Assisted Labeling) and one to showcase Label Import."
      ],
      "metadata": {
        "id": "1GdimALBuzRU"
      },
      "id": "1GdimALBuzRU"
    },
    {
      "cell_type": "code",
      "execution_count": 6,
      "id": "044e9194-d21d-403e-b64c-047c1063b0fe",
      "metadata": {
        "id": "044e9194-d21d-403e-b64c-047c1063b0fe",
        "colab": {
          "base_uri": "https://localhost:8080/"
        },
        "outputId": "5172b654-6d94-45ed-a6ed-402ed8d0c069"
      },
      "outputs": [
        {
          "output_type": "stream",
          "name": "stdout",
          "text": [
            "<DataRow {'created_at': datetime.datetime(2022, 10, 28, 13, 12, 23, tzinfo=datetime.timezone.utc), 'external_id': None, 'global_key': 'TEST-ID-54761925372734932733730003315853099010d', 'media_attributes': {}, 'metadata': [], 'metadata_fields': [], 'row_data': 'https://raw.githubusercontent.com/Labelbox/labelbox-python/develop/examples/assets/2560px-Kitano_Street_Kobe01s5s4110.jpg', 'uid': 'cl9siksqy2pif07wfha2d3w54', 'updated_at': datetime.datetime(2022, 10, 28, 13, 12, 23, tzinfo=datetime.timezone.utc)}>\n"
          ]
        }
      ],
      "source": [
        "# Create two Labelbox batch projects\n",
        "# Project defaults to batch mode with benchmark quality settings if this argument is not provided\n",
        "# Queue mode will be deprecated once dataset mode is deprecated\n",
        "\n",
        "mal_project = client.create_project(name=\"image_mal_project\",                                    \n",
        "                                    queue_mode=QueueMode.Batch,\n",
        "                                    # Quality Settings setup \n",
        "                                    auto_audit_percentage=1,\n",
        "                                    auto_audit_number_of_labels=1,\n",
        "                                    media_type=MediaType.Image)\n",
        "\n",
        "li_project = client.create_project(name=\"image_label_import_project\",\n",
        "                                    queue_mode=QueueMode.Batch,\n",
        "                                    auto_audit_percentage=1,\n",
        "                                    auto_audit_number_of_labels=1,\n",
        "                                    media_type=MediaType.Image)\n",
        "\n",
        "# # Create one Labelbox dataset\n",
        "dataset = client.create_dataset(name=\"image_annotation_import_demo_dataset\")\n",
        "# Grab an example image and create a Labelbox data row in the dataset\n",
        "uploads = {\n",
        "        \"row_data\": \"https://raw.githubusercontent.com/Labelbox/labelbox-python/develop/examples/assets/2560px-Kitano_Street_Kobe01s5s4110.jpg\",\n",
        "            # To learn more about Global Keys : https://docs.labelbox.com/docs/global-keys\n",
        "        \"global_key\": \"TEST-ID-%id\" % uuid.uuid1()\n",
        "    }\n",
        "data_row = dataset.create_data_row(uploads)\n",
        "print(data_row)\n",
        "\n",
        "\n",
        "######################### DATASET CONSENSUS OPTION ########################\n",
        "#Note that dataset base projects will be deprecated in the near future.\n",
        "\n",
        "#To use Datasets/Consensus instead of Batches/Benchmarks use the following query: \n",
        "#In this case, 10% of all data rows need to be annotated by three labelers.\n",
        "\n",
        "# dataset_project = client.create_project(name=\"dataset-test-project\",\n",
        "#                                 description=\"a description\",\n",
        "#                                 media_type=MediaType.Image,\n",
        "#                                 auto_audit_percentage=0.1,\n",
        "#                                 auto_audit_number_of_labels=3,\n",
        "#                                 queue_mode=QueueMode.Dataset)\n",
        "\n",
        "# dataset_project.datasets.connect(dataset)\n"
      ]
    },
    {
      "cell_type": "markdown",
      "source": [
        "### Setup Batches and Ontology for each project"
      ],
      "metadata": {
        "id": "8eRGvN8ynJD6"
      },
      "id": "8eRGvN8ynJD6"
    },
    {
      "cell_type": "code",
      "source": [
        "# We need data row ID(s) to create a batch\n",
        "batch_datarows = [dr.uid for dr in list(dataset.export_data_rows())]\n",
        "\n",
        "# Create a batch to send to your MAL project\n",
        "batch_mal = mal_project.create_batch(\n",
        "  \"first-batch-MAL\", # Each batch in a project must have a unique name\n",
        "  batch_datarows, # A list of data rows or data row ids\n",
        "  5 # priority between 1(Highest) - 5(lowest)\n",
        ")\n",
        "\n",
        "# Create a batch to send to you LIM project\n",
        "batch_li = li_project.create_batch(\n",
        "    \"first-batch-LIM\", # Each batch in a project must have a unique name\n",
        "    batch_datarows, # A list of data rows or data row ids\n",
        "    1 # priority between 1(Highest) - 5(lowest)\n",
        ")\n",
        "\n",
        "# Setup your ontology / labeling editor\n",
        "editor = next(client.get_labeling_frontends(where=LabelingFrontend.name == \"Editor\"))\n",
        "# Connect your ontology and editor to your MAL and LI project\n",
        "mal_project.setup(editor, ontology_builder.asdict())\n",
        "li_project.setup(editor, ontology_builder.asdict())\n",
        "\n",
        "print(\"Batch Li: \", batch_li)\n",
        "print(\"Batch Mal: \", batch_mal)"
      ],
      "metadata": {
        "id": "yfNPsINLnPcO",
        "colab": {
          "base_uri": "https://localhost:8080/"
        },
        "outputId": "f8e22b73-6f85-46e2-b618-bf37647fa4e6"
      },
      "id": "yfNPsINLnPcO",
      "execution_count": 7,
      "outputs": [
        {
          "output_type": "stream",
          "name": "stdout",
          "text": [
            "Batch Li:  <Batch {'created_at': datetime.datetime(2022, 10, 28, 13, 12, 33, tzinfo=datetime.timezone.utc), 'name': 'first-batch-LIM', 'size': 1, 'uid': '2f396c50-56c2-11ed-af40-eb9fc8d56c28', 'updated_at': datetime.datetime(2022, 10, 28, 13, 12, 33, tzinfo=datetime.timezone.utc)}>\n",
            "Batch Mal:  <Batch {'created_at': datetime.datetime(2022, 10, 28, 13, 12, 31, tzinfo=datetime.timezone.utc), 'name': 'first-batch-MAL', 'size': 1, 'uid': '2e149b60-56c2-11ed-9219-377d7dafc176', 'updated_at': datetime.datetime(2022, 10, 28, 13, 12, 31, tzinfo=datetime.timezone.utc)}>\n"
          ]
        }
      ]
    },
    {
      "cell_type": "markdown",
      "id": "8da94c48-72a5-4535-ab66-6d14b0b79aed",
      "metadata": {
        "id": "8da94c48-72a5-4535-ab66-6d14b0b79aed"
      },
      "source": [
        "### Create labels using annotation type objects\n",
        "* It is recommended to use the Python SDK's annotation types when importing labels into Labelbox."
      ]
    },
    {
      "cell_type": "markdown",
      "id": "ee9b9191-6c0d-4cba-859b-e2e9a1b887c8",
      "metadata": {
        "id": "ee9b9191-6c0d-4cba-859b-e2e9a1b887c8"
      },
      "source": [
        "### Object Annotations"
      ]
    },
    {
      "cell_type": "code",
      "source": [
        "point_annotation=ObjectAnnotation(\n",
        "    value=Point(x=882,y=159), # Coordinates for this point annotation\n",
        "    name=\"point\" # Name of the tool in your ontology\n",
        ")\n",
        "\n",
        "box_annotation=ObjectAnnotation(\n",
        "    value=Rectangle( # Coordinates for the top-left and bottom-right points of your bounding box, respectively\n",
        "        start=Point(x=557,y=898),\n",
        "        end=Point(x=852,y=1140)\n",
        "    ),\n",
        "    name=\"box\" # Name of the tool in your ontology\n",
        ")\n",
        "\n",
        "polyline_annotation=ObjectAnnotation(\n",
        "    value=Line( # Coordinates for the keypoints in your polyline\n",
        "        points=[Point(x=2534.353, y=249.471),Point(x=2429.492, y=182.092),Point(x=2294.322, y=221.962),Point(x=2224.491, y=180.463),Point(x=2136.123, y=204.716),\n",
        "                Point(x=1712.247, y=173.949),Point(x=1703.838, y=84.438),Point(x=1579.772, y=82.61),Point(x=1583.442, y=167.552),\n",
        "                Point(x=1478.869, y=164.903),Point(x=1418.941, y=318.149),Point(x=1243.128, y=400.815),Point(x=1022.067, y=319.007),\n",
        "                Point(x=892.367, y=379.216),Point(x=670.273, y=364.408),Point(x=613.114, y=288.16),Point(x=377.559, y=238.251),\n",
        "                Point(x=368.087, y=185.064),Point(x=246.557, y=167.286),Point(x=236.648, y=285.61),Point(x=90.929, y=326.412)]\n",
        "    ),\n",
        "    name=\"line\" # Name of the tool in your ontology\n",
        ")\n",
        "\n",
        "polygon_annotation=ObjectAnnotation(\n",
        "    value=Polygon( # Coordinates for the verticies of your polygon\n",
        "        points=[Point(x=1489.581,y=183.934),Point(x=2278.306,y=256.885),Point(x=2428.197,y=200.437),Point(x=2560.0,y=335.419),\n",
        "                Point(x=2557.386,y=503.165),Point(x=2320.596,y=503.103),Point(x=2156.083, y=628.943),Point(x=2161.111,y=785.519),\n",
        "                Point(x=2002.115, y=894.647),Point(x=1838.456,y=877.874),Point(x=1436.53,y=874.636),Point(x=1411.403,y=758.579),\n",
        "                Point(x=1353.853,y=751.74),Point(x=1345.264, y=453.461),Point(x=1426.011,y=421.129)]\n",
        "    ),\n",
        "    name=\"polygon\" # Name of the tool in your ontology\n",
        ")\n",
        "\n",
        "mask_annotation=ObjectAnnotation(\n",
        "    value=Mask( # Numpy array representation of a segmentation mask with the corresponding values within the array that represent the segmentation mask\n",
        "        mask=MaskData(\n",
        "            arr=np.zeros([400,450,3],dtype='uint8') # Creating an example numpy array to represent a mask creating a square from pixels 0,0 to 128,128\n",
        "        ),\n",
        "        color=(0,0,0) # Identifying what values in the numpy array correspond to the mask annotation (since I made a 3-D array with all zeroes, here it's 0,0,0)\n",
        "    ),\n",
        "    name=\"mask\" # Name of the tool in your ontology\n",
        ")"
      ],
      "metadata": {
        "id": "qzBqhV4Pv3yp"
      },
      "id": "qzBqhV4Pv3yp",
      "execution_count": 8,
      "outputs": []
    },
    {
      "cell_type": "markdown",
      "id": "291f9c97-37ba-42f5-b8f0-e118bdc5c848",
      "metadata": {
        "id": "291f9c97-37ba-42f5-b8f0-e118bdc5c848"
      },
      "source": [
        "### Classification Annotations"
      ]
    },
    {
      "cell_type": "code",
      "source": [
        "text_annotation=ClassificationAnnotation(\n",
        "    value=Text( # String value for the text annotation\n",
        "        answer=\"the answer to the text question\" \n",
        "    ), \n",
        "    name=\"text\" # Name of the classification in your ontology\n",
        ")\n",
        "\n",
        "checklist_annotation=ClassificationAnnotation(\n",
        "    value=Checklist(\n",
        "        answer=[ # List of the checklist answers in your ontology\n",
        "            ClassificationAnswer(name=\"first_checklist_answer\"),\n",
        "            ClassificationAnswer(name=\"second_checklist_answer\")\n",
        "        ]\n",
        "    ), \n",
        "    name=\"checklist\" # Name of the classification in your ontology\n",
        ")\n",
        "\n",
        "radio_annotation=ClassificationAnnotation(\n",
        "    value=Radio(\n",
        "        answer=ClassificationAnswer(\n",
        "            name=\"second_radio_answer\" # Name of the radio answer in your ontology\n",
        "        )\n",
        "    ), \n",
        "    name=\"radio\" # Name of the classification in your ontology\n",
        ")"
      ],
      "metadata": {
        "id": "f2RtQQPCymOB"
      },
      "id": "f2RtQQPCymOB",
      "execution_count": 9,
      "outputs": []
    },
    {
      "cell_type": "markdown",
      "id": "15bd593b-509d-4114-af95-ae0be081c42d",
      "metadata": {
        "id": "15bd593b-509d-4114-af95-ae0be081c42d"
      },
      "source": [
        "### Create a Label object with all of the annotations created previously."
      ]
    },
    {
      "cell_type": "code",
      "execution_count": 10,
      "id": "6d72fe25-ff7e-4e0a-94cf-095e4df73da0",
      "metadata": {
        "id": "6d72fe25-ff7e-4e0a-94cf-095e4df73da0",
        "colab": {
          "base_uri": "https://localhost:8080/"
        },
        "outputId": "304be251-ec7a-4e3f-972c-0df327650375"
      },
      "outputs": [
        {
          "output_type": "execute_result",
          "data": {
            "text/plain": [
              "{'uid': None,\n",
              " 'data': ImageData(im_bytes=None,file_path=None,url=None,arr=None),\n",
              " 'annotations': [ObjectAnnotation(name='point', feature_schema_id=None, extra={}, value=Point(extra={}, x=882.0, y=159.0), classifications=[]),\n",
              "  ObjectAnnotation(name='box', feature_schema_id=None, extra={}, value=Rectangle(extra={}, start=Point(extra={}, x=557.0, y=898.0), end=Point(extra={}, x=852.0, y=1140.0)), classifications=[]),\n",
              "  ObjectAnnotation(name='line', feature_schema_id=None, extra={}, value=Line(extra={}, points=[Point(extra={}, x=2534.353, y=249.471), Point(extra={}, x=2429.492, y=182.092), Point(extra={}, x=2294.322, y=221.962), Point(extra={}, x=2224.491, y=180.463), Point(extra={}, x=2136.123, y=204.716), Point(extra={}, x=1712.247, y=173.949), Point(extra={}, x=1703.838, y=84.438), Point(extra={}, x=1579.772, y=82.61), Point(extra={}, x=1583.442, y=167.552), Point(extra={}, x=1478.869, y=164.903), Point(extra={}, x=1418.941, y=318.149), Point(extra={}, x=1243.128, y=400.815), Point(extra={}, x=1022.067, y=319.007), Point(extra={}, x=892.367, y=379.216), Point(extra={}, x=670.273, y=364.408), Point(extra={}, x=613.114, y=288.16), Point(extra={}, x=377.559, y=238.251), Point(extra={}, x=368.087, y=185.064), Point(extra={}, x=246.557, y=167.286), Point(extra={}, x=236.648, y=285.61), Point(extra={}, x=90.929, y=326.412)]), classifications=[]),\n",
              "  ObjectAnnotation(name='polygon', feature_schema_id=None, extra={}, value=Polygon(extra={}, points=[Point(extra={}, x=1489.581, y=183.934), Point(extra={}, x=2278.306, y=256.885), Point(extra={}, x=2428.197, y=200.437), Point(extra={}, x=2560.0, y=335.419), Point(extra={}, x=2557.386, y=503.165), Point(extra={}, x=2320.596, y=503.103), Point(extra={}, x=2156.083, y=628.943), Point(extra={}, x=2161.111, y=785.519), Point(extra={}, x=2002.115, y=894.647), Point(extra={}, x=1838.456, y=877.874), Point(extra={}, x=1436.53, y=874.636), Point(extra={}, x=1411.403, y=758.579), Point(extra={}, x=1353.853, y=751.74), Point(extra={}, x=1345.264, y=453.461), Point(extra={}, x=1426.011, y=421.129), Point(extra={}, x=1489.581, y=183.934)]), classifications=[]),\n",
              "  ObjectAnnotation(name='mask', feature_schema_id=None, extra={}, value=Mask(extra={}, mask=MaskData(im_bytes=None,file_path=None,url=https://storage.labelbox.com/cl3ahv73w1891087qbwzs3edd%2Ff9d14187-290c-722e-31d7-72d9af747f22-1?Expires=1667049180772&KeyName=labelbox-assets-key-3&Signature=B2NZmnrbARin5szWt5ge8pG1Wts,arr=...), color=(0, 0, 0)), classifications=[]),\n",
              "  ClassificationAnnotation(name='text', feature_schema_id=None, extra={}, value=Text(answer='the answer to the text question')),\n",
              "  ClassificationAnnotation(name='checklist', feature_schema_id=None, extra={}, value=Checklist(name='checklist', answer=[ClassificationAnswer(name='first_checklist_answer', feature_schema_id=None, extra={}, keyframe=None), ClassificationAnswer(name='second_checklist_answer', feature_schema_id=None, extra={}, keyframe=None)])),\n",
              "  ClassificationAnnotation(name='radio', feature_schema_id=None, extra={}, value=Radio(answer=ClassificationAnswer(name='second_radio_answer', feature_schema_id=None, extra={}, keyframe=None)))],\n",
              " 'extra': {}}"
            ]
          },
          "metadata": {},
          "execution_count": 10
        }
      ],
      "source": [
        "# Create a Label object by identifying the applicavle data row in Labelbox and providing a list of annotations\n",
        "label = Label(\n",
        "    data=ImageData(\n",
        "        uid=data_row.uid),\n",
        "    annotations = [\n",
        "        point_annotation, box_annotation, polyline_annotation, polygon_annotation, mask_annotation,\n",
        "        text_annotation, checklist_annotation, radio_annotation\n",
        "    ]\n",
        ")\n",
        "\n",
        "# Create urls to mask data for upload\n",
        "def signing_function(obj_bytes: bytes) -> str:\n",
        "    url = client.upload_data(content=obj_bytes, sign=True)\n",
        "    return url\n",
        "\n",
        "label.add_url_to_masks(signing_function)\n",
        "\n",
        "label.__dict__"
      ]
    },
    {
      "cell_type": "markdown",
      "id": "cc448767-1ded-4a02-af29-64b8b9f71d99",
      "metadata": {
        "id": "cc448767-1ded-4a02-af29-64b8b9f71d99"
      },
      "source": [
        "### Model Assisted Labeling "
      ]
    },
    {
      "cell_type": "markdown",
      "id": "90d5c6b7-0a67-481c-95a8-1791fe650767",
      "metadata": {
        "id": "90d5c6b7-0a67-481c-95a8-1791fe650767"
      },
      "source": [
        "To do model-assisted labeling, we need to convert a Label object into an NDJSON. \n",
        "\n",
        "This is easily done with using the NDJSONConverter class\n",
        "\n",
        "We will create a Label called mal_label which has the same original structure as the label above\n",
        "\n",
        "Notes:\n",
        "* the NDJsonConverter takes in a list of labels"
      ]
    },
    {
      "cell_type": "code",
      "execution_count": 11,
      "id": "53aaf87b-114f-4b56-a417-8c7cddc1f532",
      "metadata": {
        "id": "53aaf87b-114f-4b56-a417-8c7cddc1f532",
        "colab": {
          "base_uri": "https://localhost:8080/"
        },
        "outputId": "c4a8aeef-470c-4ef4-d5d5-e3160168164c"
      },
      "outputs": [
        {
          "output_type": "execute_result",
          "data": {
            "text/plain": [
              "[{'uuid': '386e7306-aa6d-44eb-bb09-7492dbed72a1',\n",
              "  'dataRow': {'id': 'cl9siksqy2pif07wfha2d3w54'},\n",
              "  'name': 'point',\n",
              "  'classifications': [],\n",
              "  'point': {'x': 882.0, 'y': 159.0}},\n",
              " {'uuid': 'f92a31ce-1801-4cbc-837a-b6e45d106dc2',\n",
              "  'dataRow': {'id': 'cl9siksqy2pif07wfha2d3w54'},\n",
              "  'name': 'box',\n",
              "  'classifications': [],\n",
              "  'bbox': {'top': 898.0, 'left': 557.0, 'height': 242.0, 'width': 295.0}},\n",
              " {'uuid': '59b9282b-ea5e-4242-b57f-0098c61bb15f',\n",
              "  'dataRow': {'id': 'cl9siksqy2pif07wfha2d3w54'},\n",
              "  'name': 'line',\n",
              "  'classifications': [],\n",
              "  'line': [{'x': 2534.353, 'y': 249.471},\n",
              "   {'x': 2429.492, 'y': 182.092},\n",
              "   {'x': 2294.322, 'y': 221.962},\n",
              "   {'x': 2224.491, 'y': 180.463},\n",
              "   {'x': 2136.123, 'y': 204.716},\n",
              "   {'x': 1712.247, 'y': 173.949},\n",
              "   {'x': 1703.838, 'y': 84.438},\n",
              "   {'x': 1579.772, 'y': 82.61},\n",
              "   {'x': 1583.442, 'y': 167.552},\n",
              "   {'x': 1478.869, 'y': 164.903},\n",
              "   {'x': 1418.941, 'y': 318.149},\n",
              "   {'x': 1243.128, 'y': 400.815},\n",
              "   {'x': 1022.067, 'y': 319.007},\n",
              "   {'x': 892.367, 'y': 379.216},\n",
              "   {'x': 670.273, 'y': 364.408},\n",
              "   {'x': 613.114, 'y': 288.16},\n",
              "   {'x': 377.559, 'y': 238.251},\n",
              "   {'x': 368.087, 'y': 185.064},\n",
              "   {'x': 246.557, 'y': 167.286},\n",
              "   {'x': 236.648, 'y': 285.61},\n",
              "   {'x': 90.929, 'y': 326.412}]},\n",
              " {'uuid': '82fc4c39-2d3d-40fc-99e8-b2daa0853fe9',\n",
              "  'dataRow': {'id': 'cl9siksqy2pif07wfha2d3w54'},\n",
              "  'name': 'polygon',\n",
              "  'classifications': [],\n",
              "  'polygon': [{'x': 1489.581, 'y': 183.934},\n",
              "   {'x': 2278.306, 'y': 256.885},\n",
              "   {'x': 2428.197, 'y': 200.437},\n",
              "   {'x': 2560.0, 'y': 335.419},\n",
              "   {'x': 2557.386, 'y': 503.165},\n",
              "   {'x': 2320.596, 'y': 503.103},\n",
              "   {'x': 2156.083, 'y': 628.943},\n",
              "   {'x': 2161.111, 'y': 785.519},\n",
              "   {'x': 2002.115, 'y': 894.647},\n",
              "   {'x': 1838.456, 'y': 877.874},\n",
              "   {'x': 1436.53, 'y': 874.636},\n",
              "   {'x': 1411.403, 'y': 758.579},\n",
              "   {'x': 1353.853, 'y': 751.74},\n",
              "   {'x': 1345.264, 'y': 453.461},\n",
              "   {'x': 1426.011, 'y': 421.129},\n",
              "   {'x': 1489.581, 'y': 183.934}]},\n",
              " {'uuid': 'a4b82fe6-9aba-4dd1-87e7-3a6c3a909c67',\n",
              "  'dataRow': {'id': 'cl9siksqy2pif07wfha2d3w54'},\n",
              "  'name': 'mask',\n",
              "  'classifications': [],\n",
              "  'mask': {'instanceURI': 'https://storage.labelbox.com/cl3ahv73w1891087qbwzs3edd%2Ff9d14187-290c-722e-31d7-72d9af747f22-1?Expires=1667049180772&KeyName=labelbox-assets-key-3&Signature=B2NZmnrbARin5szWt5ge8pG1Wts',\n",
              "   'colorRGB': (0, 0, 0)}},\n",
              " {'name': 'text',\n",
              "  'answer': 'the answer to the text question',\n",
              "  'uuid': '8f6f4b70-61aa-4d50-999f-59b218e0ed31',\n",
              "  'dataRow': {'id': 'cl9siksqy2pif07wfha2d3w54'}},\n",
              " {'name': 'checklist',\n",
              "  'uuid': 'b9651b71-fb6f-469c-979d-0998115e8fe3',\n",
              "  'dataRow': {'id': 'cl9siksqy2pif07wfha2d3w54'},\n",
              "  'answer': [{'name': 'first_checklist_answer'},\n",
              "   {'name': 'second_checklist_answer'}]},\n",
              " {'name': 'radio',\n",
              "  'answer': {'name': 'second_radio_answer'},\n",
              "  'uuid': 'a3961f40-44e7-4c83-b35d-f1e65a2c567c',\n",
              "  'dataRow': {'id': 'cl9siksqy2pif07wfha2d3w54'}}]"
            ]
          },
          "metadata": {},
          "execution_count": 11
        }
      ],
      "source": [
        "# Make a copy of the label to upload to the MAL project\n",
        "mal_label = copy.deepcopy(label)\n",
        "## Create a list of labels\n",
        "mal_label_list = [mal_label]\n",
        "# Convert our label from a Labelbox class object to the underlying NDJSON format required for upload - uploads can be directly built in this syntax as well\n",
        "mal_ndjson = list(NDJsonConverter.serialize(mal_label_list))\n",
        "mal_ndjson"
      ]
    },
    {
      "cell_type": "code",
      "execution_count": 12,
      "id": "c66672c7-33e8-4d5d-b79d-2ac76d830341",
      "metadata": {
        "id": "c66672c7-33e8-4d5d-b79d-2ac76d830341"
      },
      "outputs": [],
      "source": [
        "# Upload our label using Model-Assisted Labeling\n",
        "upload_job = MALPredictionImport.create_from_objects(\n",
        "    client = client, \n",
        "    project_id = mal_project.uid, \n",
        "    name=\"mal_job\", \n",
        "    predictions=mal_ndjson)"
      ]
    },
    {
      "cell_type": "code",
      "execution_count": 13,
      "id": "2a8f9e5f-eeeb-4cfa-9b97-a09495a64d41",
      "metadata": {
        "colab": {
          "base_uri": "https://localhost:8080/"
        },
        "id": "2a8f9e5f-eeeb-4cfa-9b97-a09495a64d41",
        "outputId": "076963ad-209e-4ea6-aa0a-95a655387b12"
      },
      "outputs": [
        {
          "output_type": "stream",
          "name": "stdout",
          "text": [
            "Errors: []\n"
          ]
        }
      ],
      "source": [
        "# This will provide information only after the upload_job is complete, so we do not need to worry about having to rerun\n",
        "upload_job.wait_until_done()\n",
        "# Errors will appear for each annotation that failed.\n",
        "print(\"Errors:\", upload_job.errors)"
      ]
    },
    {
      "cell_type": "markdown",
      "id": "aad5c035-c908-46c9-beac-f38da1befa25",
      "metadata": {
        "id": "aad5c035-c908-46c9-beac-f38da1befa25"
      },
      "source": [
        "### Label Import"
      ]
    },
    {
      "cell_type": "markdown",
      "id": "9d4fa318-7d08-4d98-b0ff-e2086814d75d",
      "metadata": {
        "id": "9d4fa318-7d08-4d98-b0ff-e2086814d75d"
      },
      "source": [
        "Label import is very similar to model-assisted labeling. We will create a Label called li_label which has the same original structure as the label above. Remember that label imports will submit the labels in your project. "
      ]
    },
    {
      "cell_type": "code",
      "execution_count": 14,
      "id": "e8d4e99b-ad7e-48b9-8073-afb764d7c5b4",
      "metadata": {
        "id": "e8d4e99b-ad7e-48b9-8073-afb764d7c5b4",
        "colab": {
          "base_uri": "https://localhost:8080/"
        },
        "outputId": "885fc6ba-0714-4fd9-a24c-e08acd0f7070"
      },
      "outputs": [
        {
          "output_type": "execute_result",
          "data": {
            "text/plain": [
              "[{'uuid': '2fe442b9-655d-4667-bb5f-af3c2617ae75',\n",
              "  'dataRow': {'id': 'cl9siksqy2pif07wfha2d3w54'},\n",
              "  'name': 'point',\n",
              "  'classifications': [],\n",
              "  'point': {'x': 882.0, 'y': 159.0}},\n",
              " {'uuid': '1ff8243f-070e-4149-8392-5d80ac44644b',\n",
              "  'dataRow': {'id': 'cl9siksqy2pif07wfha2d3w54'},\n",
              "  'name': 'box',\n",
              "  'classifications': [],\n",
              "  'bbox': {'top': 898.0, 'left': 557.0, 'height': 242.0, 'width': 295.0}},\n",
              " {'uuid': 'b3c7e46e-c509-42d7-84af-548c2c287d67',\n",
              "  'dataRow': {'id': 'cl9siksqy2pif07wfha2d3w54'},\n",
              "  'name': 'line',\n",
              "  'classifications': [],\n",
              "  'line': [{'x': 2534.353, 'y': 249.471},\n",
              "   {'x': 2429.492, 'y': 182.092},\n",
              "   {'x': 2294.322, 'y': 221.962},\n",
              "   {'x': 2224.491, 'y': 180.463},\n",
              "   {'x': 2136.123, 'y': 204.716},\n",
              "   {'x': 1712.247, 'y': 173.949},\n",
              "   {'x': 1703.838, 'y': 84.438},\n",
              "   {'x': 1579.772, 'y': 82.61},\n",
              "   {'x': 1583.442, 'y': 167.552},\n",
              "   {'x': 1478.869, 'y': 164.903},\n",
              "   {'x': 1418.941, 'y': 318.149},\n",
              "   {'x': 1243.128, 'y': 400.815},\n",
              "   {'x': 1022.067, 'y': 319.007},\n",
              "   {'x': 892.367, 'y': 379.216},\n",
              "   {'x': 670.273, 'y': 364.408},\n",
              "   {'x': 613.114, 'y': 288.16},\n",
              "   {'x': 377.559, 'y': 238.251},\n",
              "   {'x': 368.087, 'y': 185.064},\n",
              "   {'x': 246.557, 'y': 167.286},\n",
              "   {'x': 236.648, 'y': 285.61},\n",
              "   {'x': 90.929, 'y': 326.412}]},\n",
              " {'uuid': '8ef17595-d7c2-461d-922d-e2757869fc8b',\n",
              "  'dataRow': {'id': 'cl9siksqy2pif07wfha2d3w54'},\n",
              "  'name': 'polygon',\n",
              "  'classifications': [],\n",
              "  'polygon': [{'x': 1489.581, 'y': 183.934},\n",
              "   {'x': 2278.306, 'y': 256.885},\n",
              "   {'x': 2428.197, 'y': 200.437},\n",
              "   {'x': 2560.0, 'y': 335.419},\n",
              "   {'x': 2557.386, 'y': 503.165},\n",
              "   {'x': 2320.596, 'y': 503.103},\n",
              "   {'x': 2156.083, 'y': 628.943},\n",
              "   {'x': 2161.111, 'y': 785.519},\n",
              "   {'x': 2002.115, 'y': 894.647},\n",
              "   {'x': 1838.456, 'y': 877.874},\n",
              "   {'x': 1436.53, 'y': 874.636},\n",
              "   {'x': 1411.403, 'y': 758.579},\n",
              "   {'x': 1353.853, 'y': 751.74},\n",
              "   {'x': 1345.264, 'y': 453.461},\n",
              "   {'x': 1426.011, 'y': 421.129},\n",
              "   {'x': 1489.581, 'y': 183.934}]},\n",
              " {'uuid': 'd3822d97-d565-448c-8ca3-f455d35d77f8',\n",
              "  'dataRow': {'id': 'cl9siksqy2pif07wfha2d3w54'},\n",
              "  'name': 'mask',\n",
              "  'classifications': [],\n",
              "  'mask': {'instanceURI': 'https://storage.labelbox.com/cl3ahv73w1891087qbwzs3edd%2Ff9d14187-290c-722e-31d7-72d9af747f22-1?Expires=1667049180772&KeyName=labelbox-assets-key-3&Signature=B2NZmnrbARin5szWt5ge8pG1Wts',\n",
              "   'colorRGB': (0, 0, 0)}},\n",
              " {'name': 'text',\n",
              "  'answer': 'the answer to the text question',\n",
              "  'uuid': '34f9f242-4e74-4ae8-a6dc-d2b19d2418f0',\n",
              "  'dataRow': {'id': 'cl9siksqy2pif07wfha2d3w54'}},\n",
              " {'name': 'checklist',\n",
              "  'uuid': 'e72b6a24-c26e-488a-a439-49bd5a4888a8',\n",
              "  'dataRow': {'id': 'cl9siksqy2pif07wfha2d3w54'},\n",
              "  'answer': [{'name': 'first_checklist_answer'},\n",
              "   {'name': 'second_checklist_answer'}]},\n",
              " {'name': 'radio',\n",
              "  'answer': {'name': 'second_radio_answer'},\n",
              "  'uuid': '89656338-80a3-4b65-8e0d-d4e2d7756872',\n",
              "  'dataRow': {'id': 'cl9siksqy2pif07wfha2d3w54'}}]"
            ]
          },
          "metadata": {},
          "execution_count": 14
        }
      ],
      "source": [
        "# Make a copy of the label to upload to the Label Import project\n",
        "li_label = copy.deepcopy(label)\n",
        "\n",
        "## Create a label list \n",
        "li_label_list = [li_label]\n",
        "\n",
        "# Convert our label from a Labelbox class object to the underlying NDJSON format required for upload - uploads can be directly built in this syntax as well\n",
        "li_ndjson = list(NDJsonConverter.serialize(li_label_list))\n",
        "li_ndjson"
      ]
    },
    {
      "cell_type": "code",
      "execution_count": 15,
      "id": "e937ea0a-8beb-4dbc-974b-0316f0b980a5",
      "metadata": {
        "id": "e937ea0a-8beb-4dbc-974b-0316f0b980a5"
      },
      "outputs": [],
      "source": [
        "# Upload our label using Label Import\n",
        "upload_job_li = LabelImport.create_from_objects(\n",
        "    client = client,\n",
        "    project_id = li_project.uid,\n",
        "    name=\"label_import_job\",\n",
        "    labels=li_ndjson)"
      ]
    },
    {
      "cell_type": "code",
      "execution_count": 16,
      "id": "3669b646-2d41-4c98-9e5b-f8ef3ce82f35",
      "metadata": {
        "colab": {
          "base_uri": "https://localhost:8080/"
        },
        "id": "3669b646-2d41-4c98-9e5b-f8ef3ce82f35",
        "outputId": "686a3edf-7479-4fb2-8226-20546eac8fa3"
      },
      "outputs": [
        {
          "output_type": "stream",
          "name": "stdout",
          "text": [
            "Errors: []\n"
          ]
        }
      ],
      "source": [
        "# This will provide information only after the upload_job is complete, so we do not need to worry about having to rerun\n",
        "upload_job_li.wait_until_done()\n",
        "# Errors will appear for each annotation that failed.\n",
        "print(\"Errors:\", upload_job_li.errors)"
      ]
    },
    {
      "cell_type": "markdown",
      "source": [
        "## Cleanup "
      ],
      "metadata": {
        "id": "OhgYk6byutP4"
      },
      "id": "OhgYk6byutP4"
    },
    {
      "cell_type": "code",
      "source": [
        "# mal_project.delete()\n",
        "# li_project.delete()\n",
        "# dataset.delete()"
      ],
      "metadata": {
        "id": "_9FDSkrhur2q"
      },
      "id": "_9FDSkrhur2q",
      "execution_count": 17,
      "outputs": []
    }
  ],
  "metadata": {
    "colab": {
      "collapsed_sections": [],
      "provenance": []
    },
    "kernelspec": {
      "display_name": "Python 3.9.2 64-bit",
      "language": "python",
      "name": "python3"
    },
    "language_info": {
      "codemirror_mode": {
        "name": "ipython",
        "version": 3
      },
      "file_extension": ".py",
      "mimetype": "text/x-python",
      "name": "python",
      "nbconvert_exporter": "python",
      "pygments_lexer": "ipython3",
      "version": "3.9.2"
    },
    "vscode": {
      "interpreter": {
        "hash": "397704579725e15f5c7cb49fe5f0341eb7531c82d19f2c29d197e8b64ab5776b"
      }
    }
  },
  "nbformat": 4,
  "nbformat_minor": 5
}
