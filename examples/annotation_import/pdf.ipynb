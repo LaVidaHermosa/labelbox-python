{
  "nbformat": 4,
  "nbformat_minor": 0,
  "metadata": {
    "colab": {
      "provenance": []
    },
    "kernelspec": {
      "name": "python3",
      "display_name": "Python 3"
    },
    "language_info": {
      "name": "python"
    }
  },
  "cells": [
    {
      "cell_type": "markdown",
      "metadata": {
        "id": "7ede57bf"
      },
      "source": [
        "<td>\n",
        "   <a target=\"_blank\" href=\"https://labelbox.com\" ><img src=\"https://labelbox.com/blog/content/images/2021/02/logo-v4.svg\" width=256/></a>\n",
        "</td>"
      ]
    },
    {
      "cell_type": "markdown",
      "metadata": {
        "id": "e2c69e42"
      },
      "source": [
        "<td>\n",
        "<a href=\"https://colab.research.google.com/github/Labelbox/labelbox-python/blob/develop/examples/annotation_import/pdf.ipynb\" target=\"_blank\"><img\n",
        "src=\"https://colab.research.google.com/assets/colab-badge.svg\" alt=\"Open In Colab\"></a>\n",
        "</td>\n",
        "\n",
        "<td>\n",
        "<a href=\"https://github.com/Labelbox/labelbox-python/tree/develop/examples/annotation_import/pdf.ipynb\" target=\"_blank\"><img\n",
        "src=\"https://img.shields.io/badge/GitHub-100000?logo=github&logoColor=white\" alt=\"GitHub\"></a>\n",
        "</td>"
      ]
    },
    {
      "cell_type": "markdown",
      "metadata": {
        "id": "cef9c510"
      },
      "source": [
        "# PDF Annotation Import"
      ]
    },
    {
      "cell_type": "markdown",
      "metadata": {
        "id": "e7e5d296"
      },
      "source": [
        "* Notes:\n",
        "    * Wait until the import job is complete before opening the Editor to make sure all annotations are imported properly."
      ]
    },
    {
      "cell_type": "code",
      "execution_count": null,
      "metadata": {
        "id": "8d8d554f"
      },
      "outputs": [],
      "source": [
        "!pip install -q 'labelbox[data]'"
      ]
    },
    {
      "cell_type": "markdown",
      "metadata": {
        "id": "573525c5"
      },
      "source": [
        "# Imports"
      ]
    },
    {
      "cell_type": "code",
      "execution_count": null,
      "metadata": {
        "id": "e3522d4b"
      },
      "outputs": [],
      "source": [
        "from labelbox.schema.ontology import OntologyBuilder, Tool, Classification, Option\n",
        "from labelbox import Client, LabelingFrontend, MALPredictionImport\n",
        "from labelbox.data.annotation_types import (\n",
        "    Label, ImageData, ObjectAnnotation, \n",
        "    Rectangle, Point,\n",
        "    Radio, Checklist, Text,\n",
        "    ClassificationAnnotation, ClassificationAnswer\n",
        ")\n",
        "from labelbox.data.serialization import NDJsonConverter\n",
        "from labelbox.schema.media_type import MediaType\n",
        "import uuid\n",
        "from uuid import uuid4\n",
        "import json"
      ]
    },
    {
      "cell_type": "markdown",
      "metadata": {
        "id": "e3036435"
      },
      "source": [
        "# API Key and Client\n",
        "Provide a valid api key below in order to properly connect to the Labelbox Client."
      ]
    },
    {
      "cell_type": "code",
      "execution_count": null,
      "metadata": {
        "id": "6ffec272"
      },
      "outputs": [],
      "source": [
        "# Add your api key\n",
        "API_KEY = \"\"\n",
        "client = Client(api_key=API_KEY)"
      ]
    },
    {
      "cell_type": "markdown",
      "metadata": {
        "id": "70c4d820"
      },
      "source": [
        "---- \n",
        "### Steps\n",
        "1. Make sure project is setup\n",
        "2. Collect annotations\n",
        "3. Upload"
      ]
    },
    {
      "cell_type": "markdown",
      "metadata": {
        "id": "5d7fc082"
      },
      "source": [
        "### Step 1: Project setup"
      ]
    },
    {
      "cell_type": "markdown",
      "metadata": {
        "id": "d0bc3c39"
      },
      "source": [
        "First, we create an ontology with all the possible tools and classifications supported for PDF. The official list of supported annotations to import can be found here:\n",
        "- [Model-Assisted Labeling](https://docs.labelbox.com/docs/model-assisted-labeling) (annotations/labels are not submitted)\n",
        "- [PDF Annotations](https://docs.labelbox.com/docs/document-annotations)"
      ]
    },
    {
      "cell_type": "code",
      "execution_count": null,
      "metadata": {
        "id": "f93aebd8"
      },
      "outputs": [],
      "source": [
        "tool_name = \"super\"\n",
        "ontology_builder = OntologyBuilder(\n",
        "  tools=[ \n",
        "    Tool( # Entity tool given the name \"NER\"\n",
        "      tool=Tool.Type.NER, \n",
        "      name= tool_name)]\n",
        "    )"
      ]
    },
    {
      "cell_type": "code",
      "source": [
        "ontology = client.create_ontology(\"pdf-entity-import-ontology\", ontology_builder.asdict())"
      ],
      "metadata": {
        "id": "I99PTpgwXplA"
      },
      "execution_count": null,
      "outputs": []
    },
    {
      "cell_type": "code",
      "source": [
        "# Create Labelbox project\n",
        "mal_project = client.create_project(name=\"pdf_entity_import\", media_type=MediaType.Document)\n",
        "\n",
        "# Create one Labelbox dataset\n",
        "dataset = client.create_dataset(name=\"pdf_entity_import_dataset\")\n",
        "\n",
        "# Grab an example pdf and create a Labelbox data row\n",
        "asset = [\n",
        "  {\n",
        "    \"row_data\": {\n",
        "      \"pdf_url\": \"https://storage.googleapis.com/labelbox-datasets/arxiv-pdf/data/99-word-token-pdfs/0801.3483.pdf\",\n",
        "      \"text_layer_url\": \"https://storage.googleapis.com/labelbox-datasets/arxiv-pdf/data/99-word-token-pdfs/0801.3483-lb-textlayer.json\"\n",
        "    }\n",
        "  }\n",
        "]\n",
        "\n",
        "task = dataset.create_data_rows(asset)\n",
        "task.wait_till_done()\n",
        "print(task.errors)\n"
      ],
      "metadata": {
        "colab": {
          "base_uri": "https://localhost:8080/"
        },
        "id": "jm1EijjWX2kd",
        "outputId": "00579957-0864-4902-9f9d-7767df7e6680"
      },
      "execution_count": null,
      "outputs": [
        {
          "output_type": "stream",
          "name": "stderr",
          "text": [
            "WARNING:labelbox.client:Default createProject behavior will soon be adjusted to prefer batch projects. Pass in `queue_mode` parameter explicitly to opt-out for the time being.\n"
          ]
        },
        {
          "output_type": "stream",
          "name": "stdout",
          "text": [
            "None\n"
          ]
        }
      ]
    },
    {
      "cell_type": "code",
      "source": [
        "\n",
        "data_row_id = next(dataset.data_rows())\n",
        "# Connect your ontology and editor to your MAL project\n",
        "mal_project.setup_editor(ontology) \n",
        "# Connect your dataset to your MAL project\n",
        "batch = mal_project.create_batch('test-batch_' + str(uuid4()), [data_row_id] , 5)"
      ],
      "metadata": {
        "id": "mAilP1_bZp39"
      },
      "execution_count": null,
      "outputs": []
    },
    {
      "cell_type": "markdown",
      "source": [
        "### Step 2: create entity annotation"
      ],
      "metadata": {
        "id": "6uDOpm_1asBV"
      }
    },
    {
      "cell_type": "code",
      "source": [
        "ANNOTATION = {\n",
        "    \"uuid\": str(uuid.uuid4()),\n",
        "    \"name\" : tool_name,\n",
        "    \"dataRow\": {\"id\": data_row_id.uid},\n",
        "    \"textSelections\": [\n",
        "        {\n",
        "            \"tokenIds\": [\n",
        "                \"521f705e-b276-4ac7-8e5b-2e38e037f80f\", # superconductivity\n",
        "            ],\n",
        "            \"groupId\": \"ed53dd86-ef39-4634-9505-ee0eebedef44\",\n",
        "            \"page\": 1,\n",
        "        }\n",
        "    ],\n",
        "}"
      ],
      "metadata": {
        "id": "YJiZANnynGcX"
      },
      "execution_count": null,
      "outputs": []
    },
    {
      "cell_type": "markdown",
      "source": [
        "### Step 3 upload annotations"
      ],
      "metadata": {
        "id": "JfDPhY2DriLn"
      }
    },
    {
      "cell_type": "code",
      "source": [
        "task = MALPredictionImport.create_from_objects(client, mal_project.uid, str(uuid.uuid4()), [ANNOTATION])"
      ],
      "metadata": {
        "id": "T6btKgt7gF-m"
      },
      "execution_count": null,
      "outputs": []
    },
    {
      "cell_type": "code",
      "source": [
        "task.wait_until_done()"
      ],
      "metadata": {
        "id": "SaGlosSCktD7"
      },
      "execution_count": null,
      "outputs": []
    },
    {
      "cell_type": "code",
      "source": [
        "print(task.errors)\n",
        "print(task.statuses)"
      ],
      "metadata": {
        "colab": {
          "base_uri": "https://localhost:8080/"
        },
        "id": "kLux4NWrk2eT",
        "outputId": "fdfcc68c-c155-4ace-90dc-4698a967edc9"
      },
      "execution_count": null,
      "outputs": [
        {
          "output_type": "stream",
          "name": "stdout",
          "text": [
            "[]\n",
            "[{'uuid': 'dffe7d75-1c61-4dcd-a0d4-804438cf540b', 'dataRow': {'id': 'clb5cdf1c6u0a077d87kffy28'}, 'status': 'SUCCESS'}]\n"
          ]
        }
      ]
    }
  ]
}
